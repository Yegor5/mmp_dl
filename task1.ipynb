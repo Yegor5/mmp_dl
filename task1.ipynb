{
 "cells": [
  {
   "cell_type": "markdown",
   "metadata": {},
   "source": [
    "# `Практикум по программированию на языке Python`\n",
    "\n",
    "## `Задание 01. Полносвязная нейронная сеть на numpy`.\n",
    "\n",
    "#### Фамилия, имя: Черемискин Егор\n",
    "\n",
    "Дата выдачи: <span style=\"color:red\">__28 февраля 17:00__</span>.\n",
    "\n",
    "Мягкий дедлайн: <span style=\"color:red\">__14 марта 23:59__</span>.\n",
    "\n",
    "Стоимость: __10 баллов__ (основная часть заданий) + __3 балла__ (дополнительные задания).\n",
    "\n",
    "<span style=\"color:red\">__В ноутбуке все клетки должны выполняться без ошибок при последовательном их выполнении.__</span>\n",
    "\n",
    "#### `Москва, 2023`"
   ]
  },
  {
   "cell_type": "code",
   "execution_count": 1,
   "metadata": {
    "ExecuteTime": {
     "end_time": "2021-03-03T14:44:48.909044Z",
     "start_time": "2021-03-03T14:44:48.683650Z"
    }
   },
   "outputs": [],
   "source": [
    "import numpy as np"
   ]
  },
  {
   "cell_type": "markdown",
   "metadata": {
    "heading_collapsed": true
   },
   "source": [
    "## `Теоретическая часть (3 балла)`"
   ]
  },
  {
   "cell_type": "markdown",
   "metadata": {
    "hidden": true
   },
   "source": [
    "В этом блоке вам нужно решить 3 задания."
   ]
  },
  {
   "cell_type": "markdown",
   "metadata": {
    "heading_collapsed": true,
    "hidden": true
   },
   "source": [
    "### `Задание 1. Градиенты для слоя Batch normalization (1.5 балла)`"
   ]
  },
  {
   "cell_type": "markdown",
   "metadata": {
    "hidden": true
   },
   "source": [
    "Рассмотрим слой Batch normalization. Пусть на вход этого слоя был подан батч из $n$ объектов, при этом у всех объектов по 1 признаку. Представим вход BN слоя в виде $X \\in \\mathbb{R}^{n \\times 1}$.\n",
    "\n",
    "Тогда в этом слое производятся следующие вычисления:\n",
    "\n",
    "$$ \\mu = \\frac1n \\sum_{i=1}^{n} X_i $$\n",
    "\n",
    "$$ \\sigma^2 = \\frac1n \\sum_{i=1}^{n} \\left( X_i - \\mu \\right) ^2 $$\n",
    "\n",
    "$$ \\tilde{y_i} = \\frac{X_i - \\mu}{\\sqrt{\\sigma^2 + \\varepsilon}} $$\n",
    "\n",
    "$$ y_i = \\gamma \\tilde{y_i} + \\delta $$\n",
    "\n",
    "Выходом BN слоя является $y_i$, а $\\gamma$ и $\\delta$ в нем — параметры, которые подбираются во время обучения вместе с другими параметрами нейронной сети (наряду, например, с весами линейного слоя).\n",
    "\n",
    "Рассмотрим нейронную сеть, в которой есть BN слой. Предположим, что вычисления в нейронной завершаются подсчетом функции потерь $\\mathcal{L}$. Пусть мы выполнили прямой проход по нейронной сети и сейчас делаем обратный проход с помощью метода обратного распространения ошибки. Пусть BN слою пришел градиент функции потерь по выходу BN слоя ($\\nabla_{y} \\mathcal{L}$).\n",
    "\n",
    "В этом задании вам нужно записать вычисление градиента функции потерь по параметрам слоя BN $\\gamma$ и $\\delta$ ($\\nabla_{\\gamma} \\mathcal{L}$, $\\nabla_{\\delta} \\mathcal{L}$) через $\\nabla_{y} \\mathcal{L}$, а также вам нужно записать вычисление градиента функции потерь по входу слоя BN $X$ ($\\nabla_{X} \\mathcal{L}$) через $\\nabla_{y} \\mathcal{L}$.\n",
    "\n",
    "Хочу заметить, в данном задании мы рассматриваем объекты всего с 1 признаком, чтобы упростить выкладки."
   ]
  },
  {
   "cell_type": "markdown",
   "metadata": {
    "hidden": true
   },
   "source": [
    "__Ваше решение:__\n",
    "\n",
    "$ y_{i} \\left( \\gamma, \\tilde{y_{i}}, \\delta \\right) = \\gamma \\tilde{y_{i}} + \\delta $\n",
    "\n",
    "$\\nabla_{\\gamma} \\mathcal{L} = \\sum_{i=1}^{n} \\frac{\\partial \\mathcal{L}}{\\partial y_{i}} \\cdot \\frac{\\partial y_{i}}{\\partial \\gamma} = \\sum_{i=1}^{n} \\frac{\\partial \\mathcal{L}}{\\partial y_{i}} \\cdot \\tilde{y_{i}}$\n",
    "\n",
    "$\\nabla_{\\delta} \\mathcal{L} =  \\sum_{i=1}^{n} \\frac{\\partial \\mathcal{L}}{\\partial y_{i}} \\cdot \\frac{\\partial y_{i}}{\\partial \\delta} = \\sum_{i=1}^{n} \\frac{\\partial \\mathcal{L}}{\\partial y_{i}}$\n",
    "\n",
    "$\\nabla_{X} \\mathcal{L} = \\nabla_{y} \\mathcal{L} \\cdot \\nabla_{X} \\mathcal{y} = \\nabla_{y} \\mathcal{L} \\cdot \\gamma \\nabla_{X} \\mathcal{\\tilde{y}}$\n",
    "\n",
    "$\\nabla_{X} \\mathcal{\\tilde{y}} = \\nabla_{X} \\left( \\frac{X - \\mu}{\\sqrt{\\sigma^2 + \\varepsilon}} \\right) = \\nabla_{X} \\left( X - \\mu \\right) \\frac{1}{\\sqrt{\\sigma^2 + \\varepsilon}} + \\sum_{i=1}^{n} \\left( X_{i} - \\mu \\right) \\nabla_{X} \\frac{1}{\\sqrt{\\sigma^2 + \\varepsilon}}$\n",
    "\n",
    "$\\nabla_{X} \\left( X - \\mu \\right) = I_{n \\times 1} - \\frac{1}{n}I_{n \\times 1} $\n",
    "\n",
    "$\\frac{\\partial}{\\partial X_{i}} \\sum_{i=1}^{n} \\left( X_i - \\mu \\right) ^2 = 2 \\left( X_i - \\mu \\right) \\cdot \\left( 1 - \\frac{1}{n} \\right) + \\sum_{i \\neq j} 2 \\left( X_{j} - \\mu \\right) \\cdot \\left( -\\frac{1}{n} \\right) = 2 \\left( X_{i} - \\mu - \\frac{1}{n}  \\sum_{i=1}^{n} \\left( X_i - \\mu \\right) \\right)$\n",
    "\n",
    "$\\nabla_{X} \\sigma^2 = \\frac{1}{n} \\nabla_{X} \\sum_{i=1}^{n} \\left( X_i - \\mu \\right) ^2 = \\frac{2}{n} \\left( X - \\mu - \\frac{1}{n}  \\sum_{i=1}^{n} \\left( X_i - \\mu \\right) \\right)$\n",
    "\n",
    "$ \\nabla_{X} \\frac{1}{\\sqrt{\\sigma^2 + \\varepsilon}} = -\\frac{\\nabla_{X} \\sigma ^2}{2 \\left( \\sigma^2 + \\varepsilon \\right)^{\\frac{3}{2}}} = -\\frac{X - \\mu - \\frac{1}{n}  \\sum_{i=1}^{n} \\left( X_i - \\mu \\right)}{n \\left( \\sigma^2 + \\varepsilon \\right)^{\\frac{3}{2}}}$\n",
    "\n",
    "$\\nabla_{X} \\mathcal{\\tilde{y}} = \\left( I_{n \\times 1} - \\frac{1}{n}I_{n \\times 1} \\right) \\frac{1}{\\sqrt{\\sigma^2 + \\varepsilon}} - \\sum_{i=1}^{n} \\left( X_{i} - \\mu \\right) \\frac{X - \\mu - \\frac{1}{n}  \\sum_{i=1}^{n} \\left( X_i - \\mu \\right)}{n \\left( \\sigma^2 + \\varepsilon \\right)^{\\frac{3}{2}}}$\n",
    "\n",
    "$\\nabla_{X} \\mathcal{L} = \\nabla_{y} \\mathcal{L} \\cdot \\frac{\\gamma}{\\sqrt{\\sigma^2 + \\varepsilon}} \\cdot \\left( I_{n \\times 1} - \\frac{1}{n}I_{n \\times 1} + \\frac{\\left( \\sum_{i=1}^{n} \\left( X_i - \\mu \\right) \\right) ^2}{n^2 \\left( \\sigma^2 + \\varepsilon \\right)}I_{n \\times 1} -\\frac{\\sum_{i=1}^{n} \\left( X_i - \\mu \\right)}{n \\left( \\sigma^2+\\varepsilon \\right)} \\left( X - \\mu \\right)     \\right)$"
   ]
  },
  {
   "cell_type": "markdown",
   "metadata": {
    "heading_collapsed": true,
    "hidden": true
   },
   "source": [
    "### `Задание 2. Вывод инициализации весов линейного слоя при использовании ReLU в качестве функции активации (1 балл)`"
   ]
  },
  {
   "cell_type": "markdown",
   "metadata": {
    "hidden": true
   },
   "source": [
    "Рассмотрим полносвязную нейронную сеть с функцией активации $g(y)$. Пусть сеть состоит из $L$ слоев и размер входа слоя $l$ равен $n_l\\ \\ (l = \\overline{1, L})$.\n",
    "\n",
    "Обозначим за $x^l \\in \\mathbb{R}^{n_{l}}$ вход слоя $l$, за $y^l \\in \\mathbb{R}^{n_{l+1}}$ — выход слоя $l$, за $W^l \\in \\mathbb{R}^{n_{l+1} \\times n_{l}}$ — веса слоя $l$, за $b^l \\in \\mathbb{R}^{n_{l+1}}$ — вектор сдвига слоя $l$.\n",
    "\n",
    "Тогда\n",
    "$$y^l = W^l x^l + b^l,$$\n",
    "$$x^{l+1} = g(y^l).$$\n",
    "\n",
    "На паре вы выводили хорошую инициализацию для линейного слоя в случае, когда в качестве функции активации $g(y)$ в нейронной сети используется гиперболический тангенс $g(y) = \\tanh(y)$. Сейчас вам нужно сделать подобный вывод для случая, когда в сети в качестве функций активации используется $g(y) = ReLU(y) = \\max(0, y)$.\n",
    "\n",
    "Сделаем следующие предположения насчет того, как распределены веса $W^l$, вектор сдвига $b^l$, входной вектор $x^l$, выходной вектор $y^l$ линейного слоя и градиенты функции потерь $\\frac{\\partial L}{\\partial y^{l}}$ $(l = \\overline{1, L}$):\n",
    "\n",
    "1. Все компоненты в $W^l$ распределены одинаково и независимо друг от друга;\n",
    "2. Все компоненты в $y^l$ распределены одинаково и независимо друг от друга;\n",
    "3. Все компоненты в $x^l$ распределены одинаково и независимо друг от друга;\n",
    "4. Все компоненты в $\\frac{\\partial L}{\\partial y^{l}}$ распределены одинаково и независимо друг от друга;\n",
    "5. Все компоненты в $W^l$ и все компоненты в $x^l$ независимы друг от друга;\n",
    "6. Все компоненты в $W^l$ имеют четную плотность распределения (то есть симметричную относительно нуля: $p_{W^l}(-x) = p_{W^l}(x)$);\n",
    "7. Все компоненты в $W^l$ имеют конечное матожидание;\n",
    "8. Вектор $b^l$ инициализирован нулями.\n",
    "\n",
    "\n",
    "Подсказки:\n",
    "1. Из пунктов 6 и 7 следует, что все компоненты в $W^l$ имеют нулевое среднее ($\\mathbb{E} W^l_{ij} = 0\\ \\ \\forall i = \\overline{1, n_{l+1}}, j = \\overline{1, n_{l}}$) (докажите);\n",
    "2. Из пунктов 6 и 7 следует, что все компоненты в $y^l$ имеют нулевое среднее и четную плотность распределения (докажите)."
   ]
  },
  {
   "cell_type": "markdown",
   "metadata": {
    "hidden": true
   },
   "source": [
    "__Ваше решение:__\n",
    "\n",
    "1) Для случайной величины с конечным матожиданием и четной плотностью распределения: $\\mathbb{E} \\xi = \\int_{-\\infty}^{+\\infty} x p(x) \\,dx = \\int_{-\\infty}^{0} x p(x) \\,dx + \\int_{0}^{+\\infty} x p(x) \\,dx = \\int_{0}^{+\\infty} x p(x) \\,dx - \\int_{0}^{+\\infty} t p(t) \\,dt = 0$ <br />\n",
    "Отсюда непосредственно вытекает утверждение первой подсказки\n",
    "\n",
    "2) Для независимых случайных величин $\\eta, \\xi_i, \\gamma_i, i = \\overline{1, n}$, где $\\xi_i$ одинаково распределены и имеют нулевое матожидание, и $\\gamma_i$ одинаково распределены, для которых верно $\\eta = \\sum_{i=1}^{n} \\xi_i \\gamma_i$, верно следующее: $\\mathbb{E} \\eta = \\sum_{i=1}^{n} \\mathbb{E} \\left( \\xi_i \\gamma_i \\right) = \\sum_{i=1}^{n} \\mathbb{E} \\xi_i \\mathbb{E} \\gamma_i = 0$ <br />\n",
    "Заметим также, что сумма двух функций с четными плотностями расрпеделения также имеет четное распределение, а функция $\\xi_i \\gamma_i$ четная, поскольку $\\mathbb{P} \\left( \\xi_i \\gamma_i = x \\right) = \\mathbb{P} \\left( \\xi_i = \\frac{x}{\\gamma_i} \\right) = \\mathbb{P} \\left( \\xi_i = - \\frac{x}{\\gamma_i} \\right) = \\mathbb{P} \\left( \\xi_i \\gamma_i = -x \\right) $ <br />\n",
    "Так как $y^l = W^l x^l$, то отсюда следует утверждение второй подсказки <br />\n",
    "\n",
    "3) Рассмотрим прямой проход: <br />\n",
    "$\\mathbb{E} y^l = 0  \\; \\forall l = \\overline{1, L} $ <br />\n",
    "$ \\mathbb{E} x^l = \\mathbb{E} g(y^{l - 1}) = 0 \\; \\forall l = \\overline{2, L}$ <br /> \n",
    "$\\mathbb{D} x^l =  \\mathbb{E} [ x^l ] ^2 - [ \\mathbb{E} x^l ]^2 = \\mathbb{E} [ x^l ] ^2 = \\mathbb{E} [ g(y^{l-1}) ] ^2 = \\frac{1}{2} \\mathbb{E} [ y^{l-1} ] ^2 = \\frac{1}{2} \\mathbb{D} y^{l-1} $<br />\n",
    "$\\mathbb{D} y^l = n_l \\mathbb{D} W^l \\mathbb{D} x^l = n_l \\mathbb{D} W^l \\frac{1}{2} \\mathbb{D}y^{l-1}$ <br />\n",
    "Необходимо, чтобы на каждом слое активации среднее и дисперсия оставались такими же, в таком случае удасться избежать проблемы затухающего и взрывающегося градиента. Среднее всегда равно нулю, приравняем дисперсии: <br />\n",
    "$\\mathbb{D} y^l = \\frac{n_l}{2} \\mathbb{D} W^l \\mathbb{D}y^{l-1} \\Rightarrow \\mathbb{D} W^l = \\frac{2}{n_l}$ <br />\n",
    "\n",
    "4) Аналогично для обратного прохода: <br />\n",
    "$\\mathbb{D} [ \\frac{\\partial L}{\\partial y^l} ] = \\frac{n_{l+1}}{2} \\mathbb{D} W^{l+1} \\mathbb{D}[ \\frac{\\partial L}{\\partial y^{l+1}} ] \\Rightarrow \\mathbb{D} W^l = \\frac{2}{n_l}$ <br />\n",
    "Таким образом, наилучшая инициализация весов обладает нулевым среднем и дисперсией, равной $\\frac{2}{n_l}$ для слоя $l$"
   ]
  },
  {
   "cell_type": "markdown",
   "metadata": {
    "heading_collapsed": true,
    "hidden": true
   },
   "source": [
    "### `Задание 3. Почему функция активации` $ReLU(y) = \\max(0, y)$ `предпочтительней сигмоиды` $\\sigma(y) = \\frac{1}{1 + \\exp(-y)}$ `в нейронных сетях? (0.5 балла)`"
   ]
  },
  {
   "cell_type": "markdown",
   "metadata": {
    "hidden": true
   },
   "source": [
    "Дайте развернутый ответ на вопрос \"Почему функция активации $ReLU(y) = \\max(0, y)$ предпочтительней сигмоиды $\\sigma(y) = \\frac{1}{1 + \\exp(-y)}$ в нейронных сетях?\""
   ]
  },
  {
   "cell_type": "markdown",
   "metadata": {
    "hidden": true
   },
   "source": [
    "__Ваш ответ:__\n",
    "\n",
    "1) Градиент функции активации ReLU для положительных значений равен 1, для отрицательных равен 0, тем самым в среднем для половины нейронов градиент не равен 0. Для сигмоиды при больших по модулю значениях градиент стремится к нулю, тем самым только в окрестности нуля у функции активации градиент не принимает близких к нулю значений. Тем самым, использование сигмоиды может привести к проблеме затухающего градиента\n",
    "\n",
    "2) Операция подсчета экспоненты занимает значительно больше времени, чем взятие максимума, тем самым сети с ReLU обучаются быстрее, чем сети с сигмоидой\n",
    "\n",
    "3) ReLU зануляет часть нейронов, тем самым сеть становится более легкой, сигмоида же обрабатывает все нейроны, поэтому ReLU более предпочительна для глубоких сетей"
   ]
  },
  {
   "cell_type": "markdown",
   "metadata": {
    "heading_collapsed": true
   },
   "source": [
    "## `Практическая часть (7 баллов)`"
   ]
  },
  {
   "cell_type": "markdown",
   "metadata": {
    "heading_collapsed": true,
    "hidden": true
   },
   "source": [
    "### `Реализация нейронной сети (3 балла)`"
   ]
  },
  {
   "cell_type": "markdown",
   "metadata": {
    "hidden": true
   },
   "source": [
    "В этом задании вы обучите полносвязную нейронную сеть распознавать рукописные цифры (а что же еще, если не их :), [почти] самостоятельно реализовав все составляющие алгоритма обучения и предсказания.\n",
    "\n",
    "Для начала нам понадобится реализовать прямой и обратный проход через слои. Наши слои будут соответствовать следующему интерфейсу (на примере \"тождественного\" слоя):"
   ]
  },
  {
   "cell_type": "code",
   "execution_count": 2,
   "metadata": {
    "ExecuteTime": {
     "end_time": "2021-03-03T14:44:48.924967Z",
     "start_time": "2021-03-03T14:44:48.912996Z"
    },
    "hidden": true
   },
   "outputs": [],
   "source": [
    "class IdentityLayer:\n",
    "    \"\"\"\n",
    "    A building block. Each layer is capable of performing two things:\n",
    "\n",
    "    - Process input to get output:           \n",
    "    output = layer.forward(input)\n",
    "\n",
    "    - Propagate gradients through itself:    \n",
    "    grad_input = layer.backward(input, grad_output)\n",
    "\n",
    "    Some layers also have learnable parameters.\n",
    "\n",
    "    Modified code from cs.hse DL course *\n",
    "    \"\"\"\n",
    "    def __init__(self):\n",
    "        \"\"\"\n",
    "        Here you can initialize layer parameters (if any) \n",
    "        and auxiliary stuff. You should enumerate all parameters\n",
    "        in self.params\n",
    "        \"\"\"\n",
    "        # An identity layer does nothing\n",
    "        self.params = []\n",
    "        pass\n",
    "\n",
    "    def forward(self, input):\n",
    "        \"\"\"\n",
    "        Takes input data of shape [batch, input_units], \n",
    "        returns output data [batch, output_units]\n",
    "        \"\"\"\n",
    "        # An identity layer just returns whatever it gets as input.\n",
    "        self.input = input\n",
    "        return input\n",
    "\n",
    "    def backward(self, grad_output): \n",
    "        \"\"\"\n",
    "        Performs a backpropagation step through the layer, \n",
    "        with respect to the given input.\n",
    "\n",
    "        To compute loss gradients w.r.t input, \n",
    "        you need to apply chain rule (backprop):\n",
    "\n",
    "        d `loss` / d `input` = (d `loss` / d `layer`) * (d `layer` / d `input`)\n",
    "\n",
    "        Luckily, you already receive d `loss` / d `layer` in argument, \n",
    "        so you only need to multiply it by d `layer` / d `input`.\n",
    "\n",
    "        NB: Sometimes d `layer` / d `input` can be a 3D or even 4D tensor.\n",
    "        So it's better to write down the `loss` differential and extract\n",
    "        d `layer` / d `input` from it so that only 2D tensors were present.\n",
    "\n",
    "        The method returns:\n",
    "        * gradient w.r.t input (will be passed to \n",
    "          previous layer's backward method)\n",
    "        * flattened gradient w.r.t. parameters (with .ravel() \n",
    "          applied to each gradient). \n",
    "          If there are no params, return []\n",
    "        \"\"\"\n",
    "        # The gradient of an identity layer is precisely grad_output\n",
    "        input_dim = self.input.shape[1]\n",
    "\n",
    "        d_layer_d_input = np.eye(input_dim)\n",
    "\n",
    "        return np.dot(grad_output, d_layer_d_input), [] # chain rule"
   ]
  },
  {
   "cell_type": "markdown",
   "metadata": {
    "heading_collapsed": true,
    "hidden": true
   },
   "source": [
    "#### `Слой нелинейности ReLU`"
   ]
  },
  {
   "cell_type": "markdown",
   "metadata": {
    "hidden": true
   },
   "source": [
    "Для начала реализуем слой нелинейности $ReLU(y) = \\max(0, y)$. Параметров у слоя нет. Метод `forward` должен вернуть результат поэлементного применения $ReLU$ к входному массиву, метод `backward` — градиент функции потерь по входу слоя. В нуле будем считать производную равной 0. Обратите внимание, что при обратном проходе могут понадобиться величины, посчитанные во время прямого прохода, поэтому их стоит сохранить как атрибут класса."
   ]
  },
  {
   "cell_type": "code",
   "execution_count": 3,
   "metadata": {
    "ExecuteTime": {
     "end_time": "2021-03-03T14:44:48.939926Z",
     "start_time": "2021-03-03T14:44:48.928957Z"
    },
    "hidden": true
   },
   "outputs": [],
   "source": [
    "class ReLU:\n",
    "    \"\"\"\n",
    "    Modified code from cs.hse DL course *\n",
    "    \"\"\"\n",
    "    def __init__(self):\n",
    "        \"\"\"ReLU layer simply applies elementwise rectified linear unit to all inputs\"\"\"\n",
    "        self.params = [] # ReLU has no parameters\n",
    "\n",
    "    def forward(self, input):\n",
    "        \"\"\"Apply elementwise ReLU to [batch, num_units] matrix\"\"\"\n",
    "        mask = input < 0\n",
    "        output = input.copy()\n",
    "        output[mask] = 0\n",
    "        self.grad = np.ones(input.shape)\n",
    "        self.grad[mask] = 0\n",
    "        return output\n",
    "        \n",
    "    def backward(self, grad_output):\n",
    "        \"\"\"Compute gradient of loss w.r.t. ReLU input\n",
    "        grad_output shape: [batch, num_units]\n",
    "        output 1 shape: [batch, num_units]\n",
    "        output 2: []\n",
    "        \"\"\"\n",
    "        return self.grad * grad_output, []\n",
    "    \n",
    "    def __repr__(self):\n",
    "        return 'Relu()'"
   ]
  },
  {
   "cell_type": "markdown",
   "metadata": {
    "heading_collapsed": true,
    "hidden": true
   },
   "source": [
    "#### `Полносвязный слой`"
   ]
  },
  {
   "cell_type": "markdown",
   "metadata": {
    "hidden": true
   },
   "source": [
    "Далее реализуем полносвязный слой без нелинейности. У слоя два параметра: матрица весов и вектор сдвига.\n",
    "\n",
    "Обратите внимание на второй аргумент: в нем надо возвращать градиент по всем параметрам в одномерном виде. Для этого надо сначала применить `.ravel()` ко всем градиентам, а затем воспользоваться `np.r_`:"
   ]
  },
  {
   "cell_type": "code",
   "execution_count": 4,
   "metadata": {
    "ExecuteTime": {
     "end_time": "2021-03-03T14:44:48.971838Z",
     "start_time": "2021-03-03T14:44:48.943913Z"
    },
    "hidden": true
   },
   "outputs": [
    {
     "data": {
      "text/plain": [
       "array([1., 0., 0., 0., 1., 0., 0., 0., 1., 0., 1., 2., 3.])"
      ]
     },
     "execution_count": 4,
     "metadata": {},
     "output_type": "execute_result"
    }
   ],
   "source": [
    "# example\n",
    "np.r_[np.eye(3).ravel(), np.arange(4)]"
   ]
  },
  {
   "cell_type": "code",
   "execution_count": 5,
   "metadata": {
    "ExecuteTime": {
     "end_time": "2021-03-03T14:44:48.987794Z",
     "start_time": "2021-03-03T14:44:48.975827Z"
    },
    "hidden": true
   },
   "outputs": [],
   "source": [
    "class Dense:\n",
    "    \"\"\"\n",
    "    Modified code from cs.hse DL course *\n",
    "    \"\"\"\n",
    "    def __init__(self, input_units, output_units):\n",
    "        \"\"\"\n",
    "        A dense layer is a layer which performs a learned affine transformation:\n",
    "        f(x) = x W + b\n",
    "        \"\"\"\n",
    "        # initialize weights with small random numbers from normal distribution\n",
    "        self.weights = np.random.randn(input_units, output_units) * 0.01\n",
    "        self.biases = np.zeros(output_units)\n",
    "        self.params = [self.weights, self.biases]\n",
    "\n",
    "    def forward(self,input):\n",
    "        \"\"\"\n",
    "        Perform an affine transformation:\n",
    "        f(x) = x W + b\n",
    "        \n",
    "        input shape: [batch, input_units]\n",
    "        output shape: [batch, output units]\n",
    "        \"\"\"\n",
    "        self.x = input\n",
    "        return self.x @ self.weights + self.biases\n",
    "\n",
    "    def backward(self, grad_output):\n",
    "        \"\"\"\n",
    "        compute gradients\n",
    "        grad_output shape: [batch, output_units]\n",
    "        output shapes: [batch, input_units], [num_params]\n",
    "        \n",
    "        hint: use function np.r_\n",
    "        np.r_[np.arange(3), np.arange(3)] = [0, 1, 2, 0, 1, 2]\n",
    "        \"\"\"\n",
    "        return grad_output @ self.weights.T, np.r_[(self.x.T @ grad_output).ravel(), np.sum(grad_output, axis=0)]\n",
    "    \n",
    "    def __repr__(self):\n",
    "        return f'Dense({self.weights.shape[0]}, {self.weights.shape[1]})'"
   ]
  },
  {
   "cell_type": "markdown",
   "metadata": {
    "heading_collapsed": true,
    "hidden": true
   },
   "source": [
    "#### `Проверка градиента`"
   ]
  },
  {
   "cell_type": "markdown",
   "metadata": {
    "hidden": true
   },
   "source": [
    "Проверим правильность реализации с помощью функции численной проверки градиента. Функция `eval_numerical_gradient` принимает на вход callable объект `f` (функцию от одного аргумента-матрицы) и аргумент `x` и вычисляет приближенный градиент функции `f` в точке `x`."
   ]
  },
  {
   "cell_type": "code",
   "execution_count": 6,
   "metadata": {
    "ExecuteTime": {
     "end_time": "2021-03-03T14:44:49.003751Z",
     "start_time": "2021-03-03T14:44:48.990787Z"
    },
    "hidden": true
   },
   "outputs": [],
   "source": [
    "def eval_numerical_gradient(f, x, verbose=False, h=0.00001):\n",
    "    \"\"\"\n",
    "    Evaluates gradient df/dx via finite differences:\n",
    "    df/dx ~ (f(x+h) - f(x-h)) / 2h\n",
    "    Adopted from https://github.com/ddtm/dl-course/\n",
    "    \"\"\"\n",
    "    fx = f(x) # evaluate function value at original point\n",
    "    grad = np.zeros_like(x)\n",
    "    # iterate over all indexes in x\n",
    "    it = np.nditer(x, flags=['multi_index'], op_flags=['readwrite'])\n",
    "    while not it.finished:\n",
    "\n",
    "        # evaluate function at x+h\n",
    "        ix = it.multi_index\n",
    "        oldval = x[ix]\n",
    "        x[ix] = oldval + h # increment by h\n",
    "        fxph = f(x) # evalute f(x + h)\n",
    "        x[ix] = oldval - h\n",
    "        fxmh = f(x) # evaluate f(x - h)\n",
    "        x[ix] = oldval # restore\n",
    "        \n",
    "        # compute the partial derivative with centered formula\n",
    "        grad[ix] = (fxph - fxmh) / (2 * h) # the slope\n",
    "        if verbose:\n",
    "            print (ix, grad[ix])\n",
    "        it.iternext() # step to next dimension\n",
    "\n",
    "    return grad"
   ]
  },
  {
   "cell_type": "markdown",
   "metadata": {
    "hidden": true
   },
   "source": [
    "Вычислите аналитический и численный градиенты по входу слоя ReLU от функции\n",
    "$$ f(y) = \\sum_i y_i, \\quad y = ReLU(x) $$\n",
    "\n",
    "Выпишите аналитический градиент в этой ячейке:\n",
    "\n",
    "$$  \\nabla_{X}f = \\frac{\\partial f}{\\partial y} \\nabla_{X}y = \\mathbb{1} {[x_i > 0]}$$"
   ]
  },
  {
   "cell_type": "markdown",
   "metadata": {
    "hidden": true
   },
   "source": [
    "Следующая ячейка после заполнения должна не выдавать ошибку :)"
   ]
  },
  {
   "cell_type": "code",
   "execution_count": 7,
   "metadata": {
    "ExecuteTime": {
     "end_time": "2021-03-03T14:44:49.034673Z",
     "start_time": "2021-03-03T14:44:49.006744Z"
    },
    "hidden": true
   },
   "outputs": [],
   "source": [
    "relu = ReLU()\n",
    "points = np.linspace(-1, 1, 10*12).reshape([10, 12])\n",
    "\n",
    "relu.forward(points)\n",
    "grads = relu.backward(np.ones((10, 12)))[0]\n",
    "numeric_grads = eval_numerical_gradient(lambda x: np.sum(np.maximum(x, np.zeros(x.shape))), points)\n",
    "\n",
    "\n",
    "assert np.allclose(grads, numeric_grads, rtol=1e-3, atol=0)"
   ]
  },
  {
   "cell_type": "markdown",
   "metadata": {
    "hidden": true
   },
   "source": [
    "Вычислите аналитический и численный градиенты по входу полносвязного слоя от функции\n",
    "$$ f(y) = \\sum_i y_i, \\quad y = W x + b $$\n",
    "\n",
    "Выпишите аналитический градиент в этой ячейке (советуем выписать градиент через дифференциал функции $f$):\n",
    "\n",
    "$$ \\nabla_{X}f = \\frac{\\partial f}{\\partial y} \\nabla_{X}y = W $$"
   ]
  },
  {
   "cell_type": "markdown",
   "metadata": {
    "hidden": true
   },
   "source": [
    "Следующая ячейка после заполнения должна не выдавать ошибку :)"
   ]
  },
  {
   "cell_type": "code",
   "execution_count": 8,
   "metadata": {
    "ExecuteTime": {
     "end_time": "2021-03-03T14:44:49.066624Z",
     "start_time": "2021-03-03T14:44:49.041651Z"
    },
    "hidden": true
   },
   "outputs": [],
   "source": [
    "linear = Dense(12, 32)\n",
    "points = np.linspace(-1, 1, 10*12).reshape([10, 12])\n",
    "\n",
    "y = linear.forward(points)\n",
    "grads = linear.backward(np.ones(y.shape))[0]\n",
    "numeric_grads = eval_numerical_gradient(lambda x: np.sum(linear.forward(x)), points)\n",
    "\n",
    "assert np.allclose(grads, numeric_grads, rtol=1e-3, atol=0)"
   ]
  },
  {
   "cell_type": "markdown",
   "metadata": {
    "heading_collapsed": true,
    "hidden": true
   },
   "source": [
    "#### `Реализация softmax-слоя и функции потерь`"
   ]
  },
  {
   "cell_type": "markdown",
   "metadata": {
    "hidden": true
   },
   "source": [
    "Для решения задачи многоклассовой классификации обычно используют $softmax$ в качестве нелинейности на последнем слое, чтобы получить вероятности классов для каждого объекта:\n",
    "$$\\hat y = softmax(x)  = \\left \\{\\frac {\\exp(x^i)}{\\sum_{j=1}^K \\exp(x^j)} \\right \\}_{i=1}^K, \\quad K - \\text{число классов.}$$\n",
    "\n",
    "Здесь за $x^i$ мы обозначаем $i$-ый признак объекта $x$.\n",
    "\n",
    "В качестве функции потерь выберем отрицательный логарифм правдоподобия (по английски: negative log likelihood или NLL)\n",
    "$$L(y, \\hat y) = -\\sum_{i=1}^K y^i \\log \\hat y^i,$$\n",
    "где $y^i = 1$, если объект принадлежит $i$-му классу, и $y^i = 0$ иначе.\n",
    "\n",
    "NLL совпадает с выражением для [кросс-энтропии](https://ru.wikipedia.org/wiki/Перекрёстная_энтропия) (в качестве первого распределения берем вырожденное распределение $y$, в качестве второго — предсказанное распределение $\\hat y$). Очевидно, что эту функцию потерь также можно переписать через индексацию, если через $y$ обозначить класс данного объекта:\n",
    "$$L(y, \\hat y) = - \\log \\hat y_{y}$$\n",
    "\n",
    "В таком виде ее удобно реализовывать."
   ]
  },
  {
   "cell_type": "markdown",
   "metadata": {
    "ExecuteTime": {
     "end_time": "2021-03-03T13:13:02.970075Z",
     "start_time": "2021-03-03T13:13:02.961134Z"
    },
    "hidden": true
   },
   "source": [
    "Для обучения нейронной сети будем оптимизировать эту функцию потерь по параметрам нейронной сети:\n",
    "\n",
    "$$ \\frac1N \\sum_{i=1}^N L(y_i, \\hat y_i) = \\frac1N \\sum_{i=1}^N L(y_i, \\text{NN}(x_i)) \\rightarrow \\min_{w}\\,,$$\n",
    "где за $x_i$ и $y_i$ мы обозначили признаки и таргет $i$-ого объекта обучающей выборки, за $\\text{NN}$ мы обозначили нейронную сеть, которая по признакам объекта $x_i$ выдает распределение вероятностей $\\hat y_i$, за $w$ мы обозначили все веса нейронной сети, а $N$ — это число объектов в обучающей выборке."
   ]
  },
  {
   "cell_type": "markdown",
   "metadata": {
    "hidden": true
   },
   "source": [
    "Реализуйте слой `LogSoftmax` (у этого слоя нет параметров). Метод `forward` должен вычислять логарифм от $softmax$, а метод `backward` — пропускать градиенты. В общем случае в промежуточных вычислениях `backward` получится трехмерный тензор, однако для нашей конкретной функции потерь все вычисления можно реализовать в матричном виде.  Поэтому мы будем предполагать, что аргумент `grad_output` — это матрица, у которой в каждой строке только одно ненулевое значение (не обязательно единица)."
   ]
  },
  {
   "cell_type": "code",
   "execution_count": 9,
   "metadata": {
    "ExecuteTime": {
     "end_time": "2021-03-03T14:44:49.272035Z",
     "start_time": "2021-03-03T14:44:49.070612Z"
    },
    "hidden": true
   },
   "outputs": [],
   "source": [
    "from scipy.special import logsumexp\n",
    "# use this function instead of np.log(np.sum(np.exp(...))) because it is more stable"
   ]
  },
  {
   "cell_type": "code",
   "execution_count": 10,
   "metadata": {
    "ExecuteTime": {
     "end_time": "2021-03-03T14:44:49.288035Z",
     "start_time": "2021-03-03T14:44:49.275031Z"
    },
    "hidden": true
   },
   "outputs": [],
   "source": [
    "class LogSoftmax:\n",
    "    def __init__(self):\n",
    "        self.params = []\n",
    "\n",
    "    def forward(self, input):\n",
    "        \"\"\"\n",
    "        Applies softmax to each row and then applies component-wise log\n",
    "        Input shape: [batch, num_units]\n",
    "        Output shape: [batch, num_units]\n",
    "        \"\"\"\n",
    "        self.x = input\n",
    "        return input - logsumexp(input, axis=1)[:, np.newaxis]\n",
    "        \n",
    "    def backward(self, grad_output):\n",
    "        \"\"\"\n",
    "        Propagartes gradients.\n",
    "        Assumes that each row of grad_output contains only 1 \n",
    "        non-zero element\n",
    "        Input shape: [batch, num_units]\n",
    "        Output shape: [batch, num_units]\n",
    "        Do not forget to return [] as second value (grad w.r.t. params)\n",
    "        \"\"\"\n",
    "        softmax = np.exp(self.x - np.max(self.x, axis=1)[:, np.newaxis])\n",
    "        return grad_output - softmax / np.sum(softmax, axis=1)[:, np.newaxis] * grad_output.sum(axis=1)[:, np.newaxis], []\n",
    "    \n",
    "    def __repr__(self):\n",
    "        return 'LogSoftmax()'"
   ]
  },
  {
   "cell_type": "markdown",
   "metadata": {
    "hidden": true
   },
   "source": [
    "Реализуйте функцию потерь и градиенты функции потерь. Во время вычисления NLL усредняйте (а не суммируйте) значения функции потерь по батчу. Обычно так делают для того, чтобы при двух запусках обучения нейронной сети с разными размерами батча получаемые значения функции потерь у этих сетей были сравнимы."
   ]
  },
  {
   "cell_type": "code",
   "execution_count": 13,
   "metadata": {
    "ExecuteTime": {
     "end_time": "2021-03-03T14:44:49.302990Z",
     "start_time": "2021-03-03T14:44:49.290985Z"
    },
    "hidden": true
   },
   "outputs": [],
   "source": [
    "def NLL(activations, target):\n",
    "    \"\"\"\n",
    "    Returns negative log-likelihood of target under model represented by\n",
    "    activations (log probabilities of classes, it's just output of LogSoftmax layer).\n",
    "    `activations` has shape [batch, num_classes], `target` has shape [batch]\n",
    "    Output shape: 1 (scalar).\n",
    "    \"\"\"\n",
    "    return -np.mean(activations[np.arange(activations.shape[0]), target])\n",
    "\n",
    "def grad_NLL(activations, target):\n",
    "    \"\"\"\n",
    "    Returns gradient of negative log-likelihood w.r.t. activations.\n",
    "    each arg has shape [batch, num_classes]\n",
    "    output shape: [batch, num-classes]\n",
    "    \"\"\"\n",
    "    grad = np.zeros(activations.shape)\n",
    "    grad[np.arange(activations.shape[0]), target] = 1\n",
    "    return -grad / activations.shape[0] "
   ]
  },
  {
   "cell_type": "markdown",
   "metadata": {
    "hidden": true
   },
   "source": [
    "Наконец, выполните проверку `LogSoftmax`-слоя, используя функцию потерь и ее градиент:"
   ]
  },
  {
   "cell_type": "code",
   "execution_count": 14,
   "metadata": {
    "ExecuteTime": {
     "end_time": "2021-03-03T14:44:49.350863Z",
     "start_time": "2021-03-03T14:44:49.305945Z"
    },
    "hidden": true
   },
   "outputs": [],
   "source": [
    "lsm = LogSoftmax()\n",
    "target = np.arange(10)\n",
    "points = np.linspace(-1, 1, 10 * 12).reshape([10, 12])\n",
    "\n",
    "grads = lsm.backward(grad_NLL(lsm.forward(points), target))[0]\n",
    "numeric_grads = eval_numerical_gradient(lambda x: NLL(lsm.forward(x), target), points)\n",
    "\n",
    "assert np.allclose(grads, numeric_grads, rtol=1e-3, atol=0)"
   ]
  },
  {
   "cell_type": "markdown",
   "metadata": {
    "heading_collapsed": true,
    "hidden": true
   },
   "source": [
    "### `Загрузка данных`"
   ]
  },
  {
   "cell_type": "markdown",
   "metadata": {
    "hidden": true
   },
   "source": [
    "Мы реализаовали все архитектурные составляющие нашей нейронной сети. Осталось загрузить данные и обучить модель. Мы будем работать с датасетом `digits`, каждый объект в котором — это 8x8 изображение рукописной цифры."
   ]
  },
  {
   "cell_type": "code",
   "execution_count": 15,
   "metadata": {
    "ExecuteTime": {
     "end_time": "2021-03-03T14:44:49.872521Z",
     "start_time": "2021-03-03T14:44:49.354818Z"
    },
    "hidden": true
   },
   "outputs": [],
   "source": [
    "import matplotlib.pyplot as plt\n",
    "%matplotlib inline"
   ]
  },
  {
   "cell_type": "code",
   "execution_count": 16,
   "metadata": {
    "ExecuteTime": {
     "end_time": "2021-03-03T14:44:51.700670Z",
     "start_time": "2021-03-03T14:44:49.876510Z"
    },
    "hidden": true
   },
   "outputs": [],
   "source": [
    "from sklearn.datasets import load_digits"
   ]
  },
  {
   "cell_type": "code",
   "execution_count": 17,
   "metadata": {
    "ExecuteTime": {
     "end_time": "2021-03-03T14:44:51.873771Z",
     "start_time": "2021-03-03T14:44:51.703667Z"
    },
    "hidden": true
   },
   "outputs": [],
   "source": [
    "X, y = load_digits(return_X_y=True)"
   ]
  },
  {
   "cell_type": "code",
   "execution_count": 18,
   "metadata": {
    "ExecuteTime": {
     "end_time": "2021-03-03T14:44:51.889252Z",
     "start_time": "2021-03-03T14:44:51.877326Z"
    },
    "hidden": true
   },
   "outputs": [
    {
     "data": {
      "text/plain": [
       "((1797, 64), (1797,))"
      ]
     },
     "execution_count": 18,
     "metadata": {},
     "output_type": "execute_result"
    }
   ],
   "source": [
    "X.shape, y.shape"
   ]
  },
  {
   "cell_type": "markdown",
   "metadata": {
    "hidden": true
   },
   "source": [
    "Разделим данные на обучение и контроль:"
   ]
  },
  {
   "cell_type": "code",
   "execution_count": 19,
   "metadata": {
    "ExecuteTime": {
     "end_time": "2021-03-03T14:44:51.952606Z",
     "start_time": "2021-03-03T14:44:51.892280Z"
    },
    "hidden": true
   },
   "outputs": [],
   "source": [
    "from sklearn.model_selection import train_test_split"
   ]
  },
  {
   "cell_type": "code",
   "execution_count": 20,
   "metadata": {
    "ExecuteTime": {
     "end_time": "2021-03-03T14:44:51.968609Z",
     "start_time": "2021-03-03T14:44:51.955642Z"
    },
    "hidden": true
   },
   "outputs": [],
   "source": [
    "X_train, X_test, y_train, y_test = train_test_split(X, y, random_state=0)"
   ]
  },
  {
   "cell_type": "code",
   "execution_count": 21,
   "metadata": {
    "ExecuteTime": {
     "end_time": "2021-03-03T14:44:52.000485Z",
     "start_time": "2021-03-03T14:44:51.971599Z"
    },
    "hidden": true
   },
   "outputs": [
    {
     "data": {
      "text/plain": [
       "((1347, 64), (450, 64))"
      ]
     },
     "execution_count": 21,
     "metadata": {},
     "output_type": "execute_result"
    }
   ],
   "source": [
    "X_train.shape, X_test.shape"
   ]
  },
  {
   "cell_type": "markdown",
   "metadata": {
    "heading_collapsed": true,
    "hidden": true
   },
   "source": [
    "### `Сборка и обучение нейронной сети (1 балл)`"
   ]
  },
  {
   "cell_type": "markdown",
   "metadata": {
    "hidden": true
   },
   "source": [
    "В нашей реализации мы представляем нейронную сеть в виде списка ее слоев. Например, следующая функция конструирует нейронную сеть заданной ширины (то есть с заданным размером скрытых слоев) и глубины (то есть с заданным количеством слоев) с заданным размером входа и выхода, а также с заданной функцией активации между линейными слоями."
   ]
  },
  {
   "cell_type": "code",
   "execution_count": 22,
   "metadata": {
    "ExecuteTime": {
     "end_time": "2021-03-03T14:44:52.016442Z",
     "start_time": "2021-03-03T14:44:52.003513Z"
    },
    "hidden": true
   },
   "outputs": [],
   "source": [
    "def make_network(input_size, hidden_layers_size, output_size, n_layers=3, activation_class=ReLU):\n",
    "    network = []\n",
    "\n",
    "    for layer_idx in range(n_layers):\n",
    "        # Compute sizes of current linear layer\n",
    "        layer_in = input_size if layer_idx == 0 else hidden_layers_size\n",
    "        layer_out = output_size if layer_idx == n_layers - 1 else hidden_layers_size\n",
    "        \n",
    "        # Add linear layer to the network\n",
    "        network.append(Dense(layer_in, layer_out))\n",
    "\n",
    "        # Add activation after each layer except the last one\n",
    "        if layer_idx != n_layers - 1:\n",
    "            network.append(activation_class())\n",
    "\n",
    "    # Add LogSoftmax layer to the network\n",
    "    network.append(LogSoftmax())\n",
    "\n",
    "    return network"
   ]
  },
  {
   "cell_type": "code",
   "execution_count": 23,
   "metadata": {
    "ExecuteTime": {
     "end_time": "2021-03-03T14:44:52.048395Z",
     "start_time": "2021-03-03T14:44:52.020431Z"
    },
    "hidden": true
   },
   "outputs": [
    {
     "data": {
      "text/plain": [
       "[Dense(64, 32), Relu(), Dense(32, 32), Relu(), Dense(32, 10), LogSoftmax()]"
      ]
     },
     "execution_count": 23,
     "metadata": {},
     "output_type": "execute_result"
    }
   ],
   "source": [
    "input_size = X_train.shape[1]\n",
    "hidden_layers_size = 32\n",
    "output_size = 10\n",
    "\n",
    "network = make_network(input_size, hidden_layers_size, output_size, 3, ReLU)\n",
    "network"
   ]
  },
  {
   "cell_type": "markdown",
   "metadata": {
    "hidden": true
   },
   "source": [
    "Реализуйте функцию, которая выполнет прямой проход по нейронной сети:"
   ]
  },
  {
   "cell_type": "code",
   "execution_count": 24,
   "metadata": {
    "ExecuteTime": {
     "end_time": "2021-03-03T14:44:52.063319Z",
     "start_time": "2021-03-03T14:44:52.051386Z"
    },
    "hidden": true
   },
   "outputs": [],
   "source": [
    "def forward(network, X):\n",
    "    \"\"\"\n",
    "    Perform forward pass through the network.\n",
    "    \n",
    "    network: list of layers\n",
    "    X: raw data\n",
    "    X shape: [batch, features_num]\n",
    "\n",
    "    output: \n",
    "    output shape: [batch, out_features_num]\n",
    "    \"\"\"\n",
    "    for layer in network:\n",
    "        X = layer.forward(X)\n",
    "    return X"
   ]
  },
  {
   "cell_type": "markdown",
   "metadata": {
    "hidden": true
   },
   "source": [
    "Для проверки, хорошо ли сеть обучилась, нам понадобится вычислять долю правильных ответов (accuracy) на данной выборке. Для этого реализуйте функцию, которая делает предсказания на каждом объекте (логично в качестве предсказания на очередном объекте выдавать тот класс, для которого предсказанный логарифм вероятности максимален):"
   ]
  },
  {
   "cell_type": "code",
   "execution_count": 25,
   "metadata": {
    "ExecuteTime": {
     "end_time": "2021-03-03T14:44:52.063319Z",
     "start_time": "2021-03-03T14:44:52.051386Z"
    },
    "hidden": true
   },
   "outputs": [],
   "source": [
    "def predict(network, X):\n",
    "    \"\"\"\n",
    "    Returns predictions for each object in X.\n",
    "    \n",
    "    network: list of layers\n",
    "    X: raw data\n",
    "    X shape: [batch, features_num]\n",
    "\n",
    "    output: array of classes, each from 0 to 9\n",
    "    output shape: [batch]\n",
    "    \"\"\"\n",
    "    classes = forward(network, X)\n",
    "    return np.argmax(classes, axis=1)"
   ]
  },
  {
   "cell_type": "markdown",
   "metadata": {
    "hidden": true
   },
   "source": [
    "Мы будем обучать параметры нейросети с помощью готовой функции оптимизации из модуля `scipy`:"
   ]
  },
  {
   "cell_type": "code",
   "execution_count": 26,
   "metadata": {
    "ExecuteTime": {
     "end_time": "2021-03-03T14:44:52.079311Z",
     "start_time": "2021-03-03T14:44:52.070308Z"
    },
    "hidden": true
   },
   "outputs": [],
   "source": [
    "from scipy.optimize import minimize"
   ]
  },
  {
   "cell_type": "code",
   "execution_count": 27,
   "metadata": {
    "ExecuteTime": {
     "end_time": "2021-03-03T14:44:52.111226Z",
     "start_time": "2021-03-03T14:44:52.085292Z"
    },
    "hidden": true,
    "scrolled": true
   },
   "outputs": [
    {
     "name": "stdout",
     "output_type": "stream",
     "text": [
      "Help on function minimize in module scipy.optimize._minimize:\n",
      "\n",
      "minimize(fun, x0, args=(), method=None, jac=None, hess=None, hessp=None, bounds=None, constraints=(), tol=None, callback=None, options=None)\n",
      "    Minimization of scalar function of one or more variables.\n",
      "    \n",
      "    Parameters\n",
      "    ----------\n",
      "    fun : callable\n",
      "        The objective function to be minimized.\n",
      "    \n",
      "            ``fun(x, *args) -> float``\n",
      "    \n",
      "        where ``x`` is an 1-D array with shape (n,) and ``args``\n",
      "        is a tuple of the fixed parameters needed to completely\n",
      "        specify the function.\n",
      "    x0 : ndarray, shape (n,)\n",
      "        Initial guess. Array of real elements of size (n,),\n",
      "        where 'n' is the number of independent variables.\n",
      "    args : tuple, optional\n",
      "        Extra arguments passed to the objective function and its\n",
      "        derivatives (`fun`, `jac` and `hess` functions).\n",
      "    method : str or callable, optional\n",
      "        Type of solver.  Should be one of\n",
      "    \n",
      "            - 'Nelder-Mead' :ref:`(see here) <optimize.minimize-neldermead>`\n",
      "            - 'Powell'      :ref:`(see here) <optimize.minimize-powell>`\n",
      "            - 'CG'          :ref:`(see here) <optimize.minimize-cg>`\n",
      "            - 'BFGS'        :ref:`(see here) <optimize.minimize-bfgs>`\n",
      "            - 'Newton-CG'   :ref:`(see here) <optimize.minimize-newtoncg>`\n",
      "            - 'L-BFGS-B'    :ref:`(see here) <optimize.minimize-lbfgsb>`\n",
      "            - 'TNC'         :ref:`(see here) <optimize.minimize-tnc>`\n",
      "            - 'COBYLA'      :ref:`(see here) <optimize.minimize-cobyla>`\n",
      "            - 'SLSQP'       :ref:`(see here) <optimize.minimize-slsqp>`\n",
      "            - 'trust-constr':ref:`(see here) <optimize.minimize-trustconstr>`\n",
      "            - 'dogleg'      :ref:`(see here) <optimize.minimize-dogleg>`\n",
      "            - 'trust-ncg'   :ref:`(see here) <optimize.minimize-trustncg>`\n",
      "            - 'trust-exact' :ref:`(see here) <optimize.minimize-trustexact>`\n",
      "            - 'trust-krylov' :ref:`(see here) <optimize.minimize-trustkrylov>`\n",
      "            - custom - a callable object (added in version 0.14.0),\n",
      "              see below for description.\n",
      "    \n",
      "        If not given, chosen to be one of ``BFGS``, ``L-BFGS-B``, ``SLSQP``,\n",
      "        depending if the problem has constraints or bounds.\n",
      "    jac : {callable,  '2-point', '3-point', 'cs', bool}, optional\n",
      "        Method for computing the gradient vector. Only for CG, BFGS,\n",
      "        Newton-CG, L-BFGS-B, TNC, SLSQP, dogleg, trust-ncg, trust-krylov,\n",
      "        trust-exact and trust-constr.\n",
      "        If it is a callable, it should be a function that returns the gradient\n",
      "        vector:\n",
      "    \n",
      "            ``jac(x, *args) -> array_like, shape (n,)``\n",
      "    \n",
      "        where ``x`` is an array with shape (n,) and ``args`` is a tuple with\n",
      "        the fixed parameters. If `jac` is a Boolean and is True, `fun` is\n",
      "        assumed to return a tuple ``(f, g)`` containing the objective\n",
      "        function and the gradient.\n",
      "        Methods 'Newton-CG', 'trust-ncg', 'dogleg', 'trust-exact', and\n",
      "        'trust-krylov' require that either a callable be supplied, or that\n",
      "        `fun` return the objective and gradient.\n",
      "        If None or False, the gradient will be estimated using 2-point finite\n",
      "        difference estimation with an absolute step size.\n",
      "        Alternatively, the keywords  {'2-point', '3-point', 'cs'} can be used\n",
      "        to select a finite difference scheme for numerical estimation of the\n",
      "        gradient with a relative step size. These finite difference schemes\n",
      "        obey any specified `bounds`.\n",
      "    hess : {callable, '2-point', '3-point', 'cs', HessianUpdateStrategy}, optional\n",
      "        Method for computing the Hessian matrix. Only for Newton-CG, dogleg,\n",
      "        trust-ncg, trust-krylov, trust-exact and trust-constr. If it is\n",
      "        callable, it should return the Hessian matrix:\n",
      "    \n",
      "            ``hess(x, *args) -> {LinearOperator, spmatrix, array}, (n, n)``\n",
      "    \n",
      "        where x is a (n,) ndarray and `args` is a tuple with the fixed\n",
      "        parameters. LinearOperator and sparse matrix returns are only allowed\n",
      "        for 'trust-constr' method. Alternatively, the keywords\n",
      "        {'2-point', '3-point', 'cs'} select a finite difference scheme\n",
      "        for numerical estimation. Or, objects implementing the\n",
      "        `HessianUpdateStrategy` interface can be used to approximate\n",
      "        the Hessian. Available quasi-Newton methods implementing\n",
      "        this interface are:\n",
      "    \n",
      "            - `BFGS`;\n",
      "            - `SR1`.\n",
      "    \n",
      "        Whenever the gradient is estimated via finite-differences,\n",
      "        the Hessian cannot be estimated with options\n",
      "        {'2-point', '3-point', 'cs'} and needs to be\n",
      "        estimated using one of the quasi-Newton strategies.\n",
      "        'trust-exact' cannot use a finite-difference scheme, and must be used\n",
      "        with a callable returning an (n, n) array.\n",
      "    hessp : callable, optional\n",
      "        Hessian of objective function times an arbitrary vector p. Only for\n",
      "        Newton-CG, trust-ncg, trust-krylov, trust-constr.\n",
      "        Only one of `hessp` or `hess` needs to be given.  If `hess` is\n",
      "        provided, then `hessp` will be ignored.  `hessp` must compute the\n",
      "        Hessian times an arbitrary vector:\n",
      "    \n",
      "            ``hessp(x, p, *args) ->  ndarray shape (n,)``\n",
      "    \n",
      "        where x is a (n,) ndarray, p is an arbitrary vector with\n",
      "        dimension (n,) and `args` is a tuple with the fixed\n",
      "        parameters.\n",
      "    bounds : sequence or `Bounds`, optional\n",
      "        Bounds on variables for Nelder-Mead, L-BFGS-B, TNC, SLSQP, Powell, and\n",
      "        trust-constr methods. There are two ways to specify the bounds:\n",
      "    \n",
      "            1. Instance of `Bounds` class.\n",
      "            2. Sequence of ``(min, max)`` pairs for each element in `x`. None\n",
      "               is used to specify no bound.\n",
      "    \n",
      "    constraints : {Constraint, dict} or List of {Constraint, dict}, optional\n",
      "        Constraints definition (only for COBYLA, SLSQP and trust-constr).\n",
      "    \n",
      "        Constraints for 'trust-constr' are defined as a single object or a\n",
      "        list of objects specifying constraints to the optimization problem.\n",
      "        Available constraints are:\n",
      "    \n",
      "            - `LinearConstraint`\n",
      "            - `NonlinearConstraint`\n",
      "    \n",
      "        Constraints for COBYLA, SLSQP are defined as a list of dictionaries.\n",
      "        Each dictionary with fields:\n",
      "    \n",
      "            type : str\n",
      "                Constraint type: 'eq' for equality, 'ineq' for inequality.\n",
      "            fun : callable\n",
      "                The function defining the constraint.\n",
      "            jac : callable, optional\n",
      "                The Jacobian of `fun` (only for SLSQP).\n",
      "            args : sequence, optional\n",
      "                Extra arguments to be passed to the function and Jacobian.\n",
      "    \n",
      "        Equality constraint means that the constraint function result is to\n",
      "        be zero whereas inequality means that it is to be non-negative.\n",
      "        Note that COBYLA only supports inequality constraints.\n",
      "    tol : float, optional\n",
      "        Tolerance for termination. When `tol` is specified, the selected\n",
      "        minimization algorithm sets some relevant solver-specific tolerance(s)\n",
      "        equal to `tol`. For detailed control, use solver-specific\n",
      "        options.\n",
      "    options : dict, optional\n",
      "        A dictionary of solver options. All methods accept the following\n",
      "        generic options:\n",
      "    \n",
      "            maxiter : int\n",
      "                Maximum number of iterations to perform. Depending on the\n",
      "                method each iteration may use several function evaluations.\n",
      "            disp : bool\n",
      "                Set to True to print convergence messages.\n",
      "    \n",
      "        For method-specific options, see :func:`show_options()`.\n",
      "    callback : callable, optional\n",
      "        Called after each iteration. For 'trust-constr' it is a callable with\n",
      "        the signature:\n",
      "    \n",
      "            ``callback(xk, OptimizeResult state) -> bool``\n",
      "    \n",
      "        where ``xk`` is the current parameter vector. and ``state``\n",
      "        is an `OptimizeResult` object, with the same fields\n",
      "        as the ones from the return. If callback returns True\n",
      "        the algorithm execution is terminated.\n",
      "        For all the other methods, the signature is:\n",
      "    \n",
      "            ``callback(xk)``\n",
      "    \n",
      "        where ``xk`` is the current parameter vector.\n",
      "    \n",
      "    Returns\n",
      "    -------\n",
      "    res : OptimizeResult\n",
      "        The optimization result represented as a ``OptimizeResult`` object.\n",
      "        Important attributes are: ``x`` the solution array, ``success`` a\n",
      "        Boolean flag indicating if the optimizer exited successfully and\n",
      "        ``message`` which describes the cause of the termination. See\n",
      "        `OptimizeResult` for a description of other attributes.\n",
      "    \n",
      "    See also\n",
      "    --------\n",
      "    minimize_scalar : Interface to minimization algorithms for scalar\n",
      "        univariate functions\n",
      "    show_options : Additional options accepted by the solvers\n",
      "    \n",
      "    Notes\n",
      "    -----\n",
      "    This section describes the available solvers that can be selected by the\n",
      "    'method' parameter. The default method is *BFGS*.\n",
      "    \n",
      "    **Unconstrained minimization**\n",
      "    \n",
      "    Method :ref:`CG <optimize.minimize-cg>` uses a nonlinear conjugate\n",
      "    gradient algorithm by Polak and Ribiere, a variant of the\n",
      "    Fletcher-Reeves method described in [5]_ pp.120-122. Only the\n",
      "    first derivatives are used.\n",
      "    \n",
      "    Method :ref:`BFGS <optimize.minimize-bfgs>` uses the quasi-Newton\n",
      "    method of Broyden, Fletcher, Goldfarb, and Shanno (BFGS) [5]_\n",
      "    pp. 136. It uses the first derivatives only. BFGS has proven good\n",
      "    performance even for non-smooth optimizations. This method also\n",
      "    returns an approximation of the Hessian inverse, stored as\n",
      "    `hess_inv` in the OptimizeResult object.\n",
      "    \n",
      "    Method :ref:`Newton-CG <optimize.minimize-newtoncg>` uses a\n",
      "    Newton-CG algorithm [5]_ pp. 168 (also known as the truncated\n",
      "    Newton method). It uses a CG method to the compute the search\n",
      "    direction. See also *TNC* method for a box-constrained\n",
      "    minimization with a similar algorithm. Suitable for large-scale\n",
      "    problems.\n",
      "    \n",
      "    Method :ref:`dogleg <optimize.minimize-dogleg>` uses the dog-leg\n",
      "    trust-region algorithm [5]_ for unconstrained minimization. This\n",
      "    algorithm requires the gradient and Hessian; furthermore the\n",
      "    Hessian is required to be positive definite.\n",
      "    \n",
      "    Method :ref:`trust-ncg <optimize.minimize-trustncg>` uses the\n",
      "    Newton conjugate gradient trust-region algorithm [5]_ for\n",
      "    unconstrained minimization. This algorithm requires the gradient\n",
      "    and either the Hessian or a function that computes the product of\n",
      "    the Hessian with a given vector. Suitable for large-scale problems.\n",
      "    \n",
      "    Method :ref:`trust-krylov <optimize.minimize-trustkrylov>` uses\n",
      "    the Newton GLTR trust-region algorithm [14]_, [15]_ for unconstrained\n",
      "    minimization. This algorithm requires the gradient\n",
      "    and either the Hessian or a function that computes the product of\n",
      "    the Hessian with a given vector. Suitable for large-scale problems.\n",
      "    On indefinite problems it requires usually less iterations than the\n",
      "    `trust-ncg` method and is recommended for medium and large-scale problems.\n",
      "    \n",
      "    Method :ref:`trust-exact <optimize.minimize-trustexact>`\n",
      "    is a trust-region method for unconstrained minimization in which\n",
      "    quadratic subproblems are solved almost exactly [13]_. This\n",
      "    algorithm requires the gradient and the Hessian (which is\n",
      "    *not* required to be positive definite). It is, in many\n",
      "    situations, the Newton method to converge in fewer iteraction\n",
      "    and the most recommended for small and medium-size problems.\n",
      "    \n",
      "    **Bound-Constrained minimization**\n",
      "    \n",
      "    Method :ref:`Nelder-Mead <optimize.minimize-neldermead>` uses the\n",
      "    Simplex algorithm [1]_, [2]_. This algorithm is robust in many\n",
      "    applications. However, if numerical computation of derivative can be\n",
      "    trusted, other algorithms using the first and/or second derivatives\n",
      "    information might be preferred for their better performance in\n",
      "    general.\n",
      "    \n",
      "    Method :ref:`L-BFGS-B <optimize.minimize-lbfgsb>` uses the L-BFGS-B\n",
      "    algorithm [6]_, [7]_ for bound constrained minimization.\n",
      "    \n",
      "    Method :ref:`Powell <optimize.minimize-powell>` is a modification\n",
      "    of Powell's method [3]_, [4]_ which is a conjugate direction\n",
      "    method. It performs sequential one-dimensional minimizations along\n",
      "    each vector of the directions set (`direc` field in `options` and\n",
      "    `info`), which is updated at each iteration of the main\n",
      "    minimization loop. The function need not be differentiable, and no\n",
      "    derivatives are taken. If bounds are not provided, then an\n",
      "    unbounded line search will be used. If bounds are provided and\n",
      "    the initial guess is within the bounds, then every function\n",
      "    evaluation throughout the minimization procedure will be within\n",
      "    the bounds. If bounds are provided, the initial guess is outside\n",
      "    the bounds, and `direc` is full rank (default has full rank), then\n",
      "    some function evaluations during the first iteration may be\n",
      "    outside the bounds, but every function evaluation after the first\n",
      "    iteration will be within the bounds. If `direc` is not full rank,\n",
      "    then some parameters may not be optimized and the solution is not\n",
      "    guaranteed to be within the bounds.\n",
      "    \n",
      "    Method :ref:`TNC <optimize.minimize-tnc>` uses a truncated Newton\n",
      "    algorithm [5]_, [8]_ to minimize a function with variables subject\n",
      "    to bounds. This algorithm uses gradient information; it is also\n",
      "    called Newton Conjugate-Gradient. It differs from the *Newton-CG*\n",
      "    method described above as it wraps a C implementation and allows\n",
      "    each variable to be given upper and lower bounds.\n",
      "    \n",
      "    **Constrained Minimization**\n",
      "    \n",
      "    Method :ref:`COBYLA <optimize.minimize-cobyla>` uses the\n",
      "    Constrained Optimization BY Linear Approximation (COBYLA) method\n",
      "    [9]_, [10]_, [11]_. The algorithm is based on linear\n",
      "    approximations to the objective function and each constraint. The\n",
      "    method wraps a FORTRAN implementation of the algorithm. The\n",
      "    constraints functions 'fun' may return either a single number\n",
      "    or an array or list of numbers.\n",
      "    \n",
      "    Method :ref:`SLSQP <optimize.minimize-slsqp>` uses Sequential\n",
      "    Least SQuares Programming to minimize a function of several\n",
      "    variables with any combination of bounds, equality and inequality\n",
      "    constraints. The method wraps the SLSQP Optimization subroutine\n",
      "    originally implemented by Dieter Kraft [12]_. Note that the\n",
      "    wrapper handles infinite values in bounds by converting them into\n",
      "    large floating values.\n",
      "    \n",
      "    Method :ref:`trust-constr <optimize.minimize-trustconstr>` is a\n",
      "    trust-region algorithm for constrained optimization. It swiches\n",
      "    between two implementations depending on the problem definition.\n",
      "    It is the most versatile constrained minimization algorithm\n",
      "    implemented in SciPy and the most appropriate for large-scale problems.\n",
      "    For equality constrained problems it is an implementation of Byrd-Omojokun\n",
      "    Trust-Region SQP method described in [17]_ and in [5]_, p. 549. When\n",
      "    inequality constraints  are imposed as well, it swiches to the trust-region\n",
      "    interior point  method described in [16]_. This interior point algorithm,\n",
      "    in turn, solves inequality constraints by introducing slack variables\n",
      "    and solving a sequence of equality-constrained barrier problems\n",
      "    for progressively smaller values of the barrier parameter.\n",
      "    The previously described equality constrained SQP method is\n",
      "    used to solve the subproblems with increasing levels of accuracy\n",
      "    as the iterate gets closer to a solution.\n",
      "    \n",
      "    **Finite-Difference Options**\n",
      "    \n",
      "    For Method :ref:`trust-constr <optimize.minimize-trustconstr>`\n",
      "    the gradient and the Hessian may be approximated using\n",
      "    three finite-difference schemes: {'2-point', '3-point', 'cs'}.\n",
      "    The scheme 'cs' is, potentially, the most accurate but it\n",
      "    requires the function to correctly handles complex inputs and to\n",
      "    be differentiable in the complex plane. The scheme '3-point' is more\n",
      "    accurate than '2-point' but requires twice as many operations.\n",
      "    \n",
      "    **Custom minimizers**\n",
      "    \n",
      "    It may be useful to pass a custom minimization method, for example\n",
      "    when using a frontend to this method such as `scipy.optimize.basinhopping`\n",
      "    or a different library.  You can simply pass a callable as the ``method``\n",
      "    parameter.\n",
      "    \n",
      "    The callable is called as ``method(fun, x0, args, **kwargs, **options)``\n",
      "    where ``kwargs`` corresponds to any other parameters passed to `minimize`\n",
      "    (such as `callback`, `hess`, etc.), except the `options` dict, which has\n",
      "    its contents also passed as `method` parameters pair by pair.  Also, if\n",
      "    `jac` has been passed as a bool type, `jac` and `fun` are mangled so that\n",
      "    `fun` returns just the function values and `jac` is converted to a function\n",
      "    returning the Jacobian.  The method shall return an `OptimizeResult`\n",
      "    object.\n",
      "    \n",
      "    The provided `method` callable must be able to accept (and possibly ignore)\n",
      "    arbitrary parameters; the set of parameters accepted by `minimize` may\n",
      "    expand in future versions and then these parameters will be passed to\n",
      "    the method.  You can find an example in the scipy.optimize tutorial.\n",
      "    \n",
      "    .. versionadded:: 0.11.0\n",
      "    \n",
      "    References\n",
      "    ----------\n",
      "    .. [1] Nelder, J A, and R Mead. 1965. A Simplex Method for Function\n",
      "        Minimization. The Computer Journal 7: 308-13.\n",
      "    .. [2] Wright M H. 1996. Direct search methods: Once scorned, now\n",
      "        respectable, in Numerical Analysis 1995: Proceedings of the 1995\n",
      "        Dundee Biennial Conference in Numerical Analysis (Eds. D F\n",
      "        Griffiths and G A Watson). Addison Wesley Longman, Harlow, UK.\n",
      "        191-208.\n",
      "    .. [3] Powell, M J D. 1964. An efficient method for finding the minimum of\n",
      "       a function of several variables without calculating derivatives. The\n",
      "       Computer Journal 7: 155-162.\n",
      "    .. [4] Press W, S A Teukolsky, W T Vetterling and B P Flannery.\n",
      "       Numerical Recipes (any edition), Cambridge University Press.\n",
      "    .. [5] Nocedal, J, and S J Wright. 2006. Numerical Optimization.\n",
      "       Springer New York.\n",
      "    .. [6] Byrd, R H and P Lu and J. Nocedal. 1995. A Limited Memory\n",
      "       Algorithm for Bound Constrained Optimization. SIAM Journal on\n",
      "       Scientific and Statistical Computing 16 (5): 1190-1208.\n",
      "    .. [7] Zhu, C and R H Byrd and J Nocedal. 1997. L-BFGS-B: Algorithm\n",
      "       778: L-BFGS-B, FORTRAN routines for large scale bound constrained\n",
      "       optimization. ACM Transactions on Mathematical Software 23 (4):\n",
      "       550-560.\n",
      "    .. [8] Nash, S G. Newton-Type Minimization Via the Lanczos Method.\n",
      "       1984. SIAM Journal of Numerical Analysis 21: 770-778.\n",
      "    .. [9] Powell, M J D. A direct search optimization method that models\n",
      "       the objective and constraint functions by linear interpolation.\n",
      "       1994. Advances in Optimization and Numerical Analysis, eds. S. Gomez\n",
      "       and J-P Hennart, Kluwer Academic (Dordrecht), 51-67.\n",
      "    .. [10] Powell M J D. Direct search algorithms for optimization\n",
      "       calculations. 1998. Acta Numerica 7: 287-336.\n",
      "    .. [11] Powell M J D. A view of algorithms for optimization without\n",
      "       derivatives. 2007.Cambridge University Technical Report DAMTP\n",
      "       2007/NA03\n",
      "    .. [12] Kraft, D. A software package for sequential quadratic\n",
      "       programming. 1988. Tech. Rep. DFVLR-FB 88-28, DLR German Aerospace\n",
      "       Center -- Institute for Flight Mechanics, Koln, Germany.\n",
      "    .. [13] Conn, A. R., Gould, N. I., and Toint, P. L.\n",
      "       Trust region methods. 2000. Siam. pp. 169-200.\n",
      "    .. [14] F. Lenders, C. Kirches, A. Potschka: \"trlib: A vector-free\n",
      "       implementation of the GLTR method for iterative solution of\n",
      "       the trust region problem\", :arxiv:`1611.04718`\n",
      "    .. [15] N. Gould, S. Lucidi, M. Roma, P. Toint: \"Solving the\n",
      "       Trust-Region Subproblem using the Lanczos Method\",\n",
      "       SIAM J. Optim., 9(2), 504--525, (1999).\n",
      "    .. [16] Byrd, Richard H., Mary E. Hribar, and Jorge Nocedal. 1999.\n",
      "        An interior point algorithm for large-scale nonlinear  programming.\n",
      "        SIAM Journal on Optimization 9.4: 877-900.\n",
      "    .. [17] Lalee, Marucha, Jorge Nocedal, and Todd Plantega. 1998. On the\n",
      "        implementation of an algorithm for large-scale equality constrained\n",
      "        optimization. SIAM Journal on Optimization 8.3: 682-706.\n",
      "    \n",
      "    Examples\n",
      "    --------\n",
      "    Let us consider the problem of minimizing the Rosenbrock function. This\n",
      "    function (and its respective derivatives) is implemented in `rosen`\n",
      "    (resp. `rosen_der`, `rosen_hess`) in the `scipy.optimize`.\n",
      "    \n",
      "    >>> from scipy.optimize import minimize, rosen, rosen_der\n",
      "    \n",
      "    A simple application of the *Nelder-Mead* method is:\n",
      "    \n",
      "    >>> x0 = [1.3, 0.7, 0.8, 1.9, 1.2]\n",
      "    >>> res = minimize(rosen, x0, method='Nelder-Mead', tol=1e-6)\n",
      "    >>> res.x\n",
      "    array([ 1.,  1.,  1.,  1.,  1.])\n",
      "    \n",
      "    Now using the *BFGS* algorithm, using the first derivative and a few\n",
      "    options:\n",
      "    \n",
      "    >>> res = minimize(rosen, x0, method='BFGS', jac=rosen_der,\n",
      "    ...                options={'gtol': 1e-6, 'disp': True})\n",
      "    Optimization terminated successfully.\n",
      "             Current function value: 0.000000\n",
      "             Iterations: 26\n",
      "             Function evaluations: 31\n",
      "             Gradient evaluations: 31\n",
      "    >>> res.x\n",
      "    array([ 1.,  1.,  1.,  1.,  1.])\n",
      "    >>> print(res.message)\n",
      "    Optimization terminated successfully.\n",
      "    >>> res.hess_inv\n",
      "    array([[ 0.00749589,  0.01255155,  0.02396251,  0.04750988,  0.09495377],  # may vary\n",
      "           [ 0.01255155,  0.02510441,  0.04794055,  0.09502834,  0.18996269],\n",
      "           [ 0.02396251,  0.04794055,  0.09631614,  0.19092151,  0.38165151],\n",
      "           [ 0.04750988,  0.09502834,  0.19092151,  0.38341252,  0.7664427 ],\n",
      "           [ 0.09495377,  0.18996269,  0.38165151,  0.7664427,   1.53713523]])\n",
      "    \n",
      "    \n",
      "    Next, consider a minimization problem with several constraints (namely\n",
      "    Example 16.4 from [5]_). The objective function is:\n",
      "    \n",
      "    >>> fun = lambda x: (x[0] - 1)**2 + (x[1] - 2.5)**2\n",
      "    \n",
      "    There are three constraints defined as:\n",
      "    \n",
      "    >>> cons = ({'type': 'ineq', 'fun': lambda x:  x[0] - 2 * x[1] + 2},\n",
      "    ...         {'type': 'ineq', 'fun': lambda x: -x[0] - 2 * x[1] + 6},\n",
      "    ...         {'type': 'ineq', 'fun': lambda x: -x[0] + 2 * x[1] + 2})\n",
      "    \n",
      "    And variables must be positive, hence the following bounds:\n",
      "    \n",
      "    >>> bnds = ((0, None), (0, None))\n",
      "    \n",
      "    The optimization problem is solved using the SLSQP method as:\n",
      "    \n",
      "    >>> res = minimize(fun, (2, 0), method='SLSQP', bounds=bnds,\n",
      "    ...                constraints=cons)\n",
      "    \n",
      "    It should converge to the theoretical solution (1.4 ,1.7).\n",
      "\n"
     ]
    }
   ],
   "source": [
    "help(minimize)"
   ]
  },
  {
   "cell_type": "markdown",
   "metadata": {
    "hidden": true
   },
   "source": [
    "Эта функция имеет стандартный интерфейс: нужно передать callable объект, который вычисляет значение и градиент целевой функции, а также точку старта оптимизации — начальное приближение (одномерный `numpy`-массив). Поэтому нам понадобятся функции для сбора и задания всех весов нашей нейросети (именно для них мы всегда записывали параметры слоя в список `layer.params`)"
   ]
  },
  {
   "cell_type": "code",
   "execution_count": 28,
   "metadata": {
    "ExecuteTime": {
     "end_time": "2021-03-03T14:44:52.127145Z",
     "start_time": "2021-03-03T14:44:52.114180Z"
    },
    "hidden": true
   },
   "outputs": [],
   "source": [
    "def get_weights(network):\n",
    "    weights = []\n",
    "    for layer in network:\n",
    "        for param in layer.params:\n",
    "            weights += param.ravel().tolist()\n",
    "    return np.array(weights)\n",
    "\n",
    "\n",
    "def set_weights(weights, network):\n",
    "    i = 0\n",
    "    for layer in network:\n",
    "        for param in layer.params:\n",
    "            l = param.size\n",
    "            param[:] = weights[i:i+l].reshape(param.shape)\n",
    "            i += l"
   ]
  },
  {
   "cell_type": "markdown",
   "metadata": {
    "hidden": true
   },
   "source": [
    "Вам нужно реализовать ту самую функцию, которую мы будем передавать в `minimize`. Эта функция должна брать на вход текущую точку (вектор всех параметров), а также список дополнительных параметров (мы будем передавать через них нашу сеть и обучающие данные) и возвращать значение критерия качества (NLL) и его градиент по параметрам модели."
   ]
  },
  {
   "cell_type": "code",
   "execution_count": 29,
   "metadata": {},
   "outputs": [],
   "source": [
    "from itertools import chain"
   ]
  },
  {
   "cell_type": "code",
   "execution_count": 30,
   "metadata": {
    "ExecuteTime": {
     "end_time": "2021-03-03T14:44:52.143103Z",
     "start_time": "2021-03-03T14:44:52.131134Z"
    },
    "hidden": true
   },
   "outputs": [],
   "source": [
    "def compute_loss_grad(weights, args):\n",
    "    \"\"\"\n",
    "    takes current weights and computes cross-entropy and gradients\n",
    "    weights shape: [num_parameters]\n",
    "    output 1: loss (scalar)\n",
    "    output 2: gradint w.r.t. weights, shape: [num_parameters]\n",
    "    \n",
    "    hint: firstly perform forward pass through the whole network\n",
    "    then compute loss and its gradients\n",
    "    then perform backward pass, transmitting first baskward output\n",
    "    to the previos layer and saving second baskward output in a list\n",
    "    finally flatten all the gradients in this list\n",
    "    (in the order from the first to the last layer)\n",
    "    \n",
    "    Do not forget to set weights of the network!\n",
    "    \"\"\"\n",
    "    network, X, y = args\n",
    "    set_weights(weights, network)\n",
    "    X = forward(network, X)\n",
    "    grad_output = grad_NLL(X, y)\n",
    "    all_grad_weights = []\n",
    "    for layer in network[::-1]:\n",
    "        grad_output, grad_weights = layer.backward(grad_output)\n",
    "        all_grad_weights.append(grad_weights)\n",
    "    return NLL(X, y), np.array(list(chain.from_iterable(all_grad_weights[::-1])))"
   ]
  },
  {
   "cell_type": "markdown",
   "metadata": {
    "hidden": true
   },
   "source": [
    "Теперь мы готовы обучать нашу нейросеть. "
   ]
  },
  {
   "cell_type": "code",
   "execution_count": 31,
   "metadata": {
    "ExecuteTime": {
     "end_time": "2021-03-03T14:44:52.175017Z",
     "start_time": "2021-03-03T14:44:52.148090Z"
    },
    "hidden": true
   },
   "outputs": [],
   "source": [
    "weights = get_weights(network)"
   ]
  },
  {
   "cell_type": "code",
   "execution_count": 32,
   "metadata": {
    "ExecuteTime": {
     "end_time": "2021-03-03T14:44:53.078366Z",
     "start_time": "2021-03-03T14:44:52.179006Z"
    },
    "hidden": true
   },
   "outputs": [],
   "source": [
    "res = minimize(\n",
    "    compute_loss_grad, weights,       # fun and start point\n",
    "    args=[network, X_train, y_train], # args passed to fun\n",
    "    method=\"L-BFGS-B\",                # optimization method\n",
    "    jac=True                          # says that gradient is computed in fun\n",
    ")"
   ]
  },
  {
   "cell_type": "code",
   "execution_count": 33,
   "metadata": {
    "ExecuteTime": {
     "end_time": "2021-03-03T14:44:53.093332Z",
     "start_time": "2021-03-03T14:44:53.081402Z"
    },
    "hidden": true
   },
   "outputs": [
    {
     "data": {
      "text/plain": [
       "dict_keys(['fun', 'jac', 'nfev', 'njev', 'nit', 'status', 'message', 'x', 'success', 'hess_inv'])"
      ]
     },
     "execution_count": 33,
     "metadata": {},
     "output_type": "execute_result"
    }
   ],
   "source": [
    "res.keys()"
   ]
  },
  {
   "cell_type": "code",
   "execution_count": 34,
   "metadata": {
    "ExecuteTime": {
     "end_time": "2021-03-03T14:44:53.109290Z",
     "start_time": "2021-03-03T14:44:53.096325Z"
    },
    "hidden": true,
    "scrolled": true
   },
   "outputs": [
    {
     "data": {
      "text/plain": [
       "169"
      ]
     },
     "execution_count": 34,
     "metadata": {},
     "output_type": "execute_result"
    }
   ],
   "source": [
    "res[\"nit\"] # number of iterations (should be >> 10)"
   ]
  },
  {
   "cell_type": "code",
   "execution_count": 35,
   "metadata": {
    "ExecuteTime": {
     "end_time": "2021-03-03T14:44:53.125246Z",
     "start_time": "2021-03-03T14:44:53.112286Z"
    },
    "hidden": true
   },
   "outputs": [
    {
     "data": {
      "text/plain": [
       "True"
      ]
     },
     "execution_count": 35,
     "metadata": {},
     "output_type": "execute_result"
    }
   ],
   "source": [
    "res[\"success\"] # should be True"
   ]
  },
  {
   "cell_type": "code",
   "execution_count": 36,
   "metadata": {
    "ExecuteTime": {
     "end_time": "2021-03-03T14:44:53.140244Z",
     "start_time": "2021-03-03T14:44:53.128239Z"
    },
    "hidden": true
   },
   "outputs": [
    {
     "data": {
      "text/plain": [
       "array([-1.77411801e-02,  2.37040936e-03, -7.45960613e-03, ...,\n",
       "       -1.18253487e+00, -2.61888685e+00, -5.71947639e-01])"
      ]
     },
     "execution_count": 36,
     "metadata": {},
     "output_type": "execute_result"
    }
   ],
   "source": [
    "res[\"x\"] # leraned weights"
   ]
  },
  {
   "cell_type": "markdown",
   "metadata": {
    "hidden": true
   },
   "source": [
    "Выведите качество на обучении (`X_train`, `y_train`) и на контроле (`X_test`, `y_test`). Не забудьте установить веса!"
   ]
  },
  {
   "cell_type": "code",
   "execution_count": 37,
   "metadata": {},
   "outputs": [],
   "source": [
    "from sklearn.metrics import accuracy_score"
   ]
  },
  {
   "cell_type": "code",
   "execution_count": 38,
   "metadata": {
    "ExecuteTime": {
     "end_time": "2021-03-03T14:44:53.172124Z",
     "start_time": "2021-03-03T14:44:53.144212Z"
    },
    "hidden": true
   },
   "outputs": [
    {
     "name": "stdout",
     "output_type": "stream",
     "text": [
      "NLL (Train / Test)     : 7.297139044845485e-07 / 0.8195197867360228\n",
      "Accuracy (Train / Test): 1.0 / 0.9466666666666667\n"
     ]
    }
   ],
   "source": [
    "set_weights(res[\"x\"], network)\n",
    "print('NLL (Train / Test)     :', NLL(forward(network, X_train), y_train), '/', NLL(forward(network, X_test), y_test))\n",
    "print('Accuracy (Train / Test):', accuracy_score(y_train, predict(network, X_train)), '/', accuracy_score(y_test, predict(network, X_test)))"
   ]
  },
  {
   "cell_type": "markdown",
   "metadata": {
    "hidden": true
   },
   "source": [
    "У `minimize` есть также аргумент `callback` — в нее можно передать функцию, которая будет вызываться после каждой итерации оптимизации. Такую функцию удобно оформить в виде метода класса, который будет сохранять качество на обучении контроле после каждой итерации. Реализуйте этот метод в классе `Callback`:"
   ]
  },
  {
   "cell_type": "code",
   "execution_count": 39,
   "metadata": {
    "ExecuteTime": {
     "end_time": "2021-03-03T14:44:53.188082Z",
     "start_time": "2021-03-03T14:44:53.175117Z"
    },
    "hidden": true
   },
   "outputs": [],
   "source": [
    "class Callback:\n",
    "    def __init__(self, network, X_train, y_train, X_test, y_test, print=False):\n",
    "        self.network = network\n",
    "        self.X_train = X_train\n",
    "        self.X_test = X_test\n",
    "        self.y_train = y_train\n",
    "        self.y_test = y_test\n",
    "        self.print = print\n",
    "        self.train_acc = []\n",
    "        self.test_acc = []\n",
    "        \n",
    "    def call(self, weights):\n",
    "        \"\"\"\n",
    "        Computes quality on train and test set with given weights\n",
    "        and saves to self.train_acc and self.test_acc.\n",
    "        If self.print is True, also prints these 2 values\n",
    "        \"\"\"\n",
    "        set_weights(weights, network)\n",
    "        acc_train = accuracy_score(self.y_train, predict(self.network, self.X_train))\n",
    "        acc_test = accuracy_score(self.y_test, predict(self.network, self.X_test))\n",
    "        self.train_acc.append(acc_train)\n",
    "        self.test_acc.append(acc_test)\n",
    "        if self.print:\n",
    "            print('Number of iterations: ', len(self.train_acc), ', accuracy on train: ', acc_train, ', accuracy on test: ', acc_test)"
   ]
  },
  {
   "cell_type": "code",
   "execution_count": 40,
   "metadata": {
    "ExecuteTime": {
     "end_time": "2021-03-03T14:44:54.497924Z",
     "start_time": "2021-03-03T14:44:53.191074Z"
    },
    "hidden": true
   },
   "outputs": [
    {
     "name": "stdout",
     "output_type": "stream",
     "text": [
      "Number of iterations:  1 , accuracy on train:  0.11804008908685969 , accuracy on test:  0.09333333333333334\n",
      "Number of iterations:  2 , accuracy on train:  0.12620638455827765 , accuracy on test:  0.12444444444444444\n",
      "Number of iterations:  3 , accuracy on train:  0.12249443207126949 , accuracy on test:  0.12\n",
      "Number of iterations:  4 , accuracy on train:  0.2167780252412769 , accuracy on test:  0.23555555555555555\n",
      "Number of iterations:  5 , accuracy on train:  0.2182628062360802 , accuracy on test:  0.2311111111111111\n",
      "Number of iterations:  6 , accuracy on train:  0.29101707498144025 , accuracy on test:  0.29555555555555557\n",
      "Number of iterations:  7 , accuracy on train:  0.28878990348923533 , accuracy on test:  0.2688888888888889\n",
      "Number of iterations:  8 , accuracy on train:  0.30734966592427615 , accuracy on test:  0.27111111111111114\n",
      "Number of iterations:  9 , accuracy on train:  0.4298440979955457 , accuracy on test:  0.3888888888888889\n",
      "Number of iterations:  10 , accuracy on train:  0.5174461766889383 , accuracy on test:  0.4822222222222222\n",
      "Number of iterations:  11 , accuracy on train:  0.5412026726057907 , accuracy on test:  0.5022222222222222\n",
      "Number of iterations:  12 , accuracy on train:  0.5352635486265775 , accuracy on test:  0.5311111111111111\n",
      "Number of iterations:  13 , accuracy on train:  0.5738678544914625 , accuracy on test:  0.5511111111111111\n",
      "Number of iterations:  14 , accuracy on train:  0.6043058648849294 , accuracy on test:  0.5933333333333334\n",
      "Number of iterations:  15 , accuracy on train:  0.6399406087602079 , accuracy on test:  0.6288888888888889\n",
      "Number of iterations:  16 , accuracy on train:  0.6815144766146993 , accuracy on test:  0.6733333333333333\n",
      "Number of iterations:  17 , accuracy on train:  0.7045285820341499 , accuracy on test:  0.7222222222222222\n",
      "Number of iterations:  18 , accuracy on train:  0.7461024498886414 , accuracy on test:  0.7511111111111111\n",
      "Number of iterations:  19 , accuracy on train:  0.7646622123236823 , accuracy on test:  0.7488888888888889\n",
      "Number of iterations:  20 , accuracy on train:  0.7743132887899035 , accuracy on test:  0.7666666666666667\n",
      "Number of iterations:  21 , accuracy on train:  0.7802524127691166 , accuracy on test:  0.7711111111111111\n",
      "Number of iterations:  22 , accuracy on train:  0.799554565701559 , accuracy on test:  0.7733333333333333\n",
      "Number of iterations:  23 , accuracy on train:  0.8144023756495917 , accuracy on test:  0.8\n",
      "Number of iterations:  24 , accuracy on train:  0.8507795100222717 , accuracy on test:  0.8377777777777777\n",
      "Number of iterations:  25 , accuracy on train:  0.852264291017075 , accuracy on test:  0.8355555555555556\n",
      "Number of iterations:  26 , accuracy on train:  0.8834446919079436 , accuracy on test:  0.8755555555555555\n",
      "Number of iterations:  27 , accuracy on train:  0.8878990348923533 , accuracy on test:  0.88\n",
      "Number of iterations:  28 , accuracy on train:  0.89086859688196 , accuracy on test:  0.8733333333333333\n",
      "Number of iterations:  29 , accuracy on train:  0.8864142538975501 , accuracy on test:  0.8577777777777778\n",
      "Number of iterations:  30 , accuracy on train:  0.8975501113585747 , accuracy on test:  0.8733333333333333\n",
      "Number of iterations:  31 , accuracy on train:  0.8975501113585747 , accuracy on test:  0.88\n",
      "Number of iterations:  32 , accuracy on train:  0.8990348923533779 , accuracy on test:  0.8844444444444445\n",
      "Number of iterations:  33 , accuracy on train:  0.902746844840386 , accuracy on test:  0.8733333333333333\n",
      "Number of iterations:  34 , accuracy on train:  0.9057164068299925 , accuracy on test:  0.8777777777777778\n",
      "Number of iterations:  35 , accuracy on train:  0.9146250927988122 , accuracy on test:  0.8888888888888888\n",
      "Number of iterations:  36 , accuracy on train:  0.9153674832962138 , accuracy on test:  0.9\n",
      "Number of iterations:  37 , accuracy on train:  0.9175946547884187 , accuracy on test:  0.8933333333333333\n",
      "Number of iterations:  38 , accuracy on train:  0.9205642167780252 , accuracy on test:  0.9\n",
      "Number of iterations:  39 , accuracy on train:  0.9265033407572383 , accuracy on test:  0.9022222222222223\n",
      "Number of iterations:  40 , accuracy on train:  0.9257609502598366 , accuracy on test:  0.8955555555555555\n",
      "Number of iterations:  41 , accuracy on train:  0.9309576837416481 , accuracy on test:  0.9022222222222223\n",
      "Number of iterations:  42 , accuracy on train:  0.9279881217520416 , accuracy on test:  0.9\n",
      "Number of iterations:  43 , accuracy on train:  0.9272457312546399 , accuracy on test:  0.8933333333333333\n",
      "Number of iterations:  44 , accuracy on train:  0.9339272457312546 , accuracy on test:  0.8977777777777778\n",
      "Number of iterations:  45 , accuracy on train:  0.9361544172234595 , accuracy on test:  0.9066666666666666\n",
      "Number of iterations:  46 , accuracy on train:  0.9398663697104677 , accuracy on test:  0.9111111111111111\n",
      "Number of iterations:  47 , accuracy on train:  0.941351150705271 , accuracy on test:  0.9133333333333333\n",
      "Number of iterations:  48 , accuracy on train:  0.9517446176688938 , accuracy on test:  0.9177777777777778\n",
      "Number of iterations:  49 , accuracy on train:  0.9539717891610987 , accuracy on test:  0.9133333333333333\n",
      "Number of iterations:  50 , accuracy on train:  0.9539717891610987 , accuracy on test:  0.92\n",
      "Number of iterations:  51 , accuracy on train:  0.9561989606533037 , accuracy on test:  0.9222222222222223\n",
      "Number of iterations:  52 , accuracy on train:  0.9584261321455085 , accuracy on test:  0.9266666666666666\n",
      "Number of iterations:  53 , accuracy on train:  0.9599109131403119 , accuracy on test:  0.9244444444444444\n",
      "Number of iterations:  54 , accuracy on train:  0.9628804751299184 , accuracy on test:  0.9266666666666666\n",
      "Number of iterations:  55 , accuracy on train:  0.9658500371195249 , accuracy on test:  0.9266666666666666\n",
      "Number of iterations:  56 , accuracy on train:  0.9710467706013363 , accuracy on test:  0.92\n",
      "Number of iterations:  57 , accuracy on train:  0.9725315515961396 , accuracy on test:  0.9244444444444444\n",
      "Number of iterations:  58 , accuracy on train:  0.9710467706013363 , accuracy on test:  0.92\n",
      "Number of iterations:  59 , accuracy on train:  0.9725315515961396 , accuracy on test:  0.9288888888888889\n",
      "Number of iterations:  60 , accuracy on train:  0.9740163325909429 , accuracy on test:  0.9288888888888889\n",
      "Number of iterations:  61 , accuracy on train:  0.9747587230883444 , accuracy on test:  0.9311111111111111\n",
      "Number of iterations:  62 , accuracy on train:  0.9740163325909429 , accuracy on test:  0.9355555555555556\n",
      "Number of iterations:  63 , accuracy on train:  0.9747587230883444 , accuracy on test:  0.9311111111111111\n",
      "Number of iterations:  64 , accuracy on train:  0.9762435040831478 , accuracy on test:  0.9311111111111111\n",
      "Number of iterations:  65 , accuracy on train:  0.9755011135857461 , accuracy on test:  0.9288888888888889\n",
      "Number of iterations:  66 , accuracy on train:  0.9755011135857461 , accuracy on test:  0.9311111111111111\n",
      "Number of iterations:  67 , accuracy on train:  0.9799554565701559 , accuracy on test:  0.9266666666666666\n",
      "Number of iterations:  68 , accuracy on train:  0.9814402375649591 , accuracy on test:  0.9377777777777778\n",
      "Number of iterations:  69 , accuracy on train:  0.9814402375649591 , accuracy on test:  0.9377777777777778\n",
      "Number of iterations:  70 , accuracy on train:  0.9799554565701559 , accuracy on test:  0.9377777777777778\n",
      "Number of iterations:  71 , accuracy on train:  0.9814402375649591 , accuracy on test:  0.94\n",
      "Number of iterations:  72 , accuracy on train:  0.9844097995545658 , accuracy on test:  0.94\n",
      "Number of iterations:  73 , accuracy on train:  0.9873793615441723 , accuracy on test:  0.9422222222222222\n",
      "Number of iterations:  74 , accuracy on train:  0.9881217520415738 , accuracy on test:  0.9422222222222222\n",
      "Number of iterations:  75 , accuracy on train:  0.9873793615441723 , accuracy on test:  0.9422222222222222\n",
      "Number of iterations:  76 , accuracy on train:  0.9881217520415738 , accuracy on test:  0.94\n",
      "Number of iterations:  77 , accuracy on train:  0.9844097995545658 , accuracy on test:  0.94\n",
      "Number of iterations:  78 , accuracy on train:  0.9881217520415738 , accuracy on test:  0.9444444444444444\n",
      "Number of iterations:  79 , accuracy on train:  0.9873793615441723 , accuracy on test:  0.9444444444444444\n",
      "Number of iterations:  80 , accuracy on train:  0.9881217520415738 , accuracy on test:  0.9466666666666667\n",
      "Number of iterations:  81 , accuracy on train:  0.9866369710467706 , accuracy on test:  0.9466666666666667\n",
      "Number of iterations:  82 , accuracy on train:  0.985894580549369 , accuracy on test:  0.9466666666666667\n",
      "Number of iterations:  83 , accuracy on train:  0.985894580549369 , accuracy on test:  0.9466666666666667\n",
      "Number of iterations:  84 , accuracy on train:  0.9866369710467706 , accuracy on test:  0.9511111111111111\n",
      "Number of iterations:  85 , accuracy on train:  0.9873793615441723 , accuracy on test:  0.9488888888888889\n",
      "Number of iterations:  86 , accuracy on train:  0.9866369710467706 , accuracy on test:  0.9511111111111111\n",
      "Number of iterations:  87 , accuracy on train:  0.9881217520415738 , accuracy on test:  0.9466666666666667\n",
      "Number of iterations:  88 , accuracy on train:  0.9888641425389755 , accuracy on test:  0.9488888888888889\n",
      "Number of iterations:  89 , accuracy on train:  0.9896065330363771 , accuracy on test:  0.9466666666666667\n",
      "Number of iterations:  90 , accuracy on train:  0.9888641425389755 , accuracy on test:  0.9466666666666667\n",
      "Number of iterations:  91 , accuracy on train:  0.9896065330363771 , accuracy on test:  0.9466666666666667\n",
      "Number of iterations:  92 , accuracy on train:  0.9948032665181886 , accuracy on test:  0.9488888888888889\n",
      "Number of iterations:  93 , accuracy on train:  0.9955456570155902 , accuracy on test:  0.9511111111111111\n",
      "Number of iterations:  94 , accuracy on train:  0.9955456570155902 , accuracy on test:  0.9488888888888889\n",
      "Number of iterations:  95 , accuracy on train:  0.9970304380103935 , accuracy on test:  0.9466666666666667\n",
      "Number of iterations:  96 , accuracy on train:  0.9955456570155902 , accuracy on test:  0.9466666666666667\n",
      "Number of iterations:  97 , accuracy on train:  0.9962880475129918 , accuracy on test:  0.9466666666666667\n",
      "Number of iterations:  98 , accuracy on train:  0.9962880475129918 , accuracy on test:  0.9488888888888889\n",
      "Number of iterations:  99 , accuracy on train:  0.9970304380103935 , accuracy on test:  0.9511111111111111\n",
      "Number of iterations:  100 , accuracy on train:  0.9970304380103935 , accuracy on test:  0.9466666666666667\n",
      "Number of iterations:  101 , accuracy on train:  0.9970304380103935 , accuracy on test:  0.9511111111111111\n",
      "Number of iterations:  102 , accuracy on train:  0.9977728285077951 , accuracy on test:  0.9422222222222222\n",
      "Number of iterations:  103 , accuracy on train:  0.9977728285077951 , accuracy on test:  0.9466666666666667\n",
      "Number of iterations:  104 , accuracy on train:  0.9977728285077951 , accuracy on test:  0.9488888888888889\n",
      "Number of iterations:  105 , accuracy on train:  0.9985152190051967 , accuracy on test:  0.9466666666666667\n",
      "Number of iterations:  106 , accuracy on train:  0.9985152190051967 , accuracy on test:  0.9444444444444444\n",
      "Number of iterations:  107 , accuracy on train:  0.9985152190051967 , accuracy on test:  0.9444444444444444\n",
      "Number of iterations:  108 , accuracy on train:  0.9992576095025983 , accuracy on test:  0.94\n",
      "Number of iterations:  109 , accuracy on train:  0.9992576095025983 , accuracy on test:  0.9422222222222222\n",
      "Number of iterations:  110 , accuracy on train:  0.9992576095025983 , accuracy on test:  0.9466666666666667\n",
      "Number of iterations:  111 , accuracy on train:  0.9992576095025983 , accuracy on test:  0.9466666666666667\n",
      "Number of iterations:  112 , accuracy on train:  0.9992576095025983 , accuracy on test:  0.9466666666666667\n",
      "Number of iterations:  113 , accuracy on train:  1.0 , accuracy on test:  0.9488888888888889\n",
      "Number of iterations:  114 , accuracy on train:  1.0 , accuracy on test:  0.9466666666666667\n",
      "Number of iterations:  115 , accuracy on train:  0.9992576095025983 , accuracy on test:  0.9466666666666667\n",
      "Number of iterations:  116 , accuracy on train:  1.0 , accuracy on test:  0.9488888888888889\n",
      "Number of iterations:  117 , accuracy on train:  1.0 , accuracy on test:  0.9488888888888889\n",
      "Number of iterations:  118 , accuracy on train:  1.0 , accuracy on test:  0.9511111111111111\n",
      "Number of iterations:  119 , accuracy on train:  1.0 , accuracy on test:  0.9511111111111111\n",
      "Number of iterations:  120 , accuracy on train:  1.0 , accuracy on test:  0.9533333333333334\n",
      "Number of iterations:  121 , accuracy on train:  1.0 , accuracy on test:  0.9533333333333334\n",
      "Number of iterations:  122 , accuracy on train:  1.0 , accuracy on test:  0.9533333333333334\n",
      "Number of iterations:  123 , accuracy on train:  1.0 , accuracy on test:  0.9511111111111111\n",
      "Number of iterations:  124 , accuracy on train:  1.0 , accuracy on test:  0.9488888888888889\n",
      "Number of iterations:  125 , accuracy on train:  1.0 , accuracy on test:  0.9466666666666667\n",
      "Number of iterations:  126 , accuracy on train:  1.0 , accuracy on test:  0.9488888888888889\n",
      "Number of iterations:  127 , accuracy on train:  1.0 , accuracy on test:  0.9422222222222222\n",
      "Number of iterations:  128 , accuracy on train:  1.0 , accuracy on test:  0.9422222222222222\n",
      "Number of iterations:  129 , accuracy on train:  1.0 , accuracy on test:  0.9422222222222222\n",
      "Number of iterations:  130 , accuracy on train:  1.0 , accuracy on test:  0.9488888888888889\n",
      "Number of iterations:  131 , accuracy on train:  1.0 , accuracy on test:  0.9466666666666667\n",
      "Number of iterations:  132 , accuracy on train:  1.0 , accuracy on test:  0.9488888888888889\n",
      "Number of iterations:  133 , accuracy on train:  1.0 , accuracy on test:  0.9511111111111111\n",
      "Number of iterations:  134 , accuracy on train:  1.0 , accuracy on test:  0.9511111111111111\n",
      "Number of iterations:  135 , accuracy on train:  1.0 , accuracy on test:  0.9511111111111111\n",
      "Number of iterations:  136 , accuracy on train:  1.0 , accuracy on test:  0.9511111111111111\n",
      "Number of iterations:  137 , accuracy on train:  1.0 , accuracy on test:  0.9533333333333334\n",
      "Number of iterations:  138 , accuracy on train:  1.0 , accuracy on test:  0.9511111111111111\n",
      "Number of iterations:  139 , accuracy on train:  1.0 , accuracy on test:  0.9488888888888889\n",
      "Number of iterations:  140 , accuracy on train:  1.0 , accuracy on test:  0.9488888888888889\n",
      "Number of iterations:  141 , accuracy on train:  1.0 , accuracy on test:  0.9488888888888889\n",
      "Number of iterations:  142 , accuracy on train:  1.0 , accuracy on test:  0.9444444444444444\n",
      "Number of iterations:  143 , accuracy on train:  1.0 , accuracy on test:  0.9444444444444444\n",
      "Number of iterations:  144 , accuracy on train:  1.0 , accuracy on test:  0.9444444444444444\n",
      "Number of iterations:  145 , accuracy on train:  1.0 , accuracy on test:  0.9488888888888889\n",
      "Number of iterations:  146 , accuracy on train:  1.0 , accuracy on test:  0.9444444444444444\n",
      "Number of iterations:  147 , accuracy on train:  1.0 , accuracy on test:  0.9466666666666667\n",
      "Number of iterations:  148 , accuracy on train:  1.0 , accuracy on test:  0.9466666666666667\n",
      "Number of iterations:  149 , accuracy on train:  1.0 , accuracy on test:  0.9511111111111111\n",
      "Number of iterations:  150 , accuracy on train:  1.0 , accuracy on test:  0.9488888888888889\n",
      "Number of iterations:  151 , accuracy on train:  1.0 , accuracy on test:  0.9488888888888889\n",
      "Number of iterations:  152 , accuracy on train:  1.0 , accuracy on test:  0.9466666666666667\n",
      "Number of iterations:  153 , accuracy on train:  1.0 , accuracy on test:  0.9488888888888889\n",
      "Number of iterations:  154 , accuracy on train:  1.0 , accuracy on test:  0.9511111111111111\n",
      "Number of iterations:  155 , accuracy on train:  1.0 , accuracy on test:  0.9533333333333334\n",
      "Number of iterations:  156 , accuracy on train:  1.0 , accuracy on test:  0.9533333333333334\n",
      "Number of iterations:  157 , accuracy on train:  1.0 , accuracy on test:  0.9555555555555556\n",
      "Number of iterations:  158 , accuracy on train:  1.0 , accuracy on test:  0.9555555555555556\n",
      "Number of iterations:  159 , accuracy on train:  1.0 , accuracy on test:  0.9488888888888889\n",
      "Number of iterations:  160 , accuracy on train:  1.0 , accuracy on test:  0.9488888888888889\n",
      "Number of iterations:  161 , accuracy on train:  1.0 , accuracy on test:  0.9466666666666667\n",
      "Number of iterations:  162 , accuracy on train:  1.0 , accuracy on test:  0.9466666666666667\n",
      "Number of iterations:  163 , accuracy on train:  1.0 , accuracy on test:  0.9466666666666667\n",
      "Number of iterations:  164 , accuracy on train:  1.0 , accuracy on test:  0.9511111111111111\n",
      "Number of iterations:  165 , accuracy on train:  1.0 , accuracy on test:  0.9533333333333334\n",
      "Number of iterations:  166 , accuracy on train:  1.0 , accuracy on test:  0.9533333333333334\n",
      "Number of iterations:  167 , accuracy on train:  1.0 , accuracy on test:  0.9488888888888889\n",
      "Number of iterations:  168 , accuracy on train:  1.0 , accuracy on test:  0.9488888888888889\n",
      "Number of iterations:  169 , accuracy on train:  1.0 , accuracy on test:  0.9466666666666667\n"
     ]
    }
   ],
   "source": [
    "cb = Callback(network, X_train, y_train, X_test, y_test, print=True)\n",
    "\n",
    "res = minimize(\n",
    "    compute_loss_grad, weights,  \n",
    "    args=[network, X_train, y_train], \n",
    "    method=\"L-BFGS-B\",\n",
    "    jac=True,\n",
    "    callback=cb.call\n",
    ")"
   ]
  },
  {
   "cell_type": "markdown",
   "metadata": {
    "hidden": true
   },
   "source": [
    "Изобразите на графике кривую качества на обучени и контроле по итерациям:"
   ]
  },
  {
   "cell_type": "code",
   "execution_count": 41,
   "metadata": {
    "ExecuteTime": {
     "end_time": "2021-03-03T14:44:54.816117Z",
     "start_time": "2021-03-03T14:44:54.500922Z"
    },
    "hidden": true
   },
   "outputs": [
    {
     "data": {
      "image/png": "[encoded data removed]",
      "text/plain": [
       "<Figure size 720x360 with 1 Axes>"
      ]
     },
     "metadata": {
      "needs_background": "light"
     },
     "output_type": "display_data"
    }
   ],
   "source": [
    "fig, ax = plt.subplots(1, 1, figsize=(10, 5))\n",
    "ax.plot(cb.train_acc, label=\"train acc\")\n",
    "ax.plot(cb.test_acc, label=\"test acc\")\n",
    "ax.set_xlabel(\"Iteration\")\n",
    "ax.set_ylabel(\"Accuracy\")\n",
    "ax.grid(True)\n",
    "ax.legend()\n",
    "\n",
    "fig.tight_layout()\n",
    "plt.show()"
   ]
  },
  {
   "cell_type": "markdown",
   "metadata": {
    "heading_collapsed": true,
    "hidden": true
   },
   "source": [
    "### `Эксперименты с числом слоев (1 балл)`"
   ]
  },
  {
   "cell_type": "markdown",
   "metadata": {
    "hidden": true
   },
   "source": [
    "Ясно, что из-за случайного начального приближения с каждым запуском обучения мы будем получать различное качество. Попробуем обучить нашу нейросеть с разным числом слоев несколько раз.\n",
    "\n",
    "Заполните матрицы `accs_train` и `accs_test`. В позиции `[i, j]` должна стоять величина доли правильных ответов сети с $i+1$ полносвязными слоями при $j$-м запуске (все запуски идентичны)."
   ]
  },
  {
   "cell_type": "code",
   "execution_count": 42,
   "metadata": {
    "ExecuteTime": {
     "end_time": "2021-03-03T14:44:54.832074Z",
     "start_time": "2021-03-03T14:44:54.819071Z"
    },
    "hidden": true
   },
   "outputs": [],
   "source": [
    "accs_train = np.zeros((5, 5))\n",
    "accs_test = np.zeros((5, 5))"
   ]
  },
  {
   "cell_type": "code",
   "execution_count": 43,
   "metadata": {
    "ExecuteTime": {
     "end_time": "2021-03-03T14:45:56.444624Z",
     "start_time": "2021-03-03T14:44:54.836024Z"
    },
    "hidden": true
   },
   "outputs": [],
   "source": [
    "for i in range(5):\n",
    "    for j in range(5):\n",
    "        network = make_network(input_size, hidden_layers_size, output_size, i + 1, ReLU)\n",
    "        weights = get_weights(network)\n",
    "        res = minimize(compute_loss_grad, weights, args=[network, X_train, y_train], method=\"L-BFGS-B\", jac=True)\n",
    "        set_weights(res[\"x\"], network)\n",
    "        accs_train[i][j] = accuracy_score(y_train, predict(network, X_train))\n",
    "        accs_test[i][j] = accuracy_score(y_test, predict(network, X_test))"
   ]
  },
  {
   "cell_type": "markdown",
   "metadata": {
    "hidden": true
   },
   "source": [
    "Построим боксплоты полученного качества (горизонтальная линия в каждом столбце — среднее, прямоугольник показывает разброс)."
   ]
  },
  {
   "cell_type": "code",
   "execution_count": 44,
   "metadata": {
    "ExecuteTime": {
     "end_time": "2021-03-03T14:45:57.060827Z",
     "start_time": "2021-03-03T14:45:56.447467Z"
    },
    "hidden": true
   },
   "outputs": [
    {
     "data": {
      "image/png": "[encoded data removed]",
      "text/plain": [
       "<Figure size 720x576 with 2 Axes>"
      ]
     },
     "metadata": {
      "needs_background": "light"
     },
     "output_type": "display_data"
    }
   ],
   "source": [
    "fig, axes = plt.subplots(2, 1, figsize=(10, 8))\n",
    "\n",
    "axes[0].boxplot(accs_train.T, showfliers=False)\n",
    "axes[1].boxplot(accs_test.T, showfliers=False)\n",
    "\n",
    "axes[0].set_xlabel(\"Number of layers\")\n",
    "axes[1].set_xlabel(\"Number of layers\")\n",
    "\n",
    "axes[0].set_ylabel(\"Train accuracy\")\n",
    "axes[1].set_ylabel(\"Test accuracy\")\n",
    "\n",
    "axes[0].set_title(\"Train quality in 5 runs\")\n",
    "axes[1].set_title(\"Test quality in 5 runs\")\n",
    "\n",
    "axes[0].grid(True)\n",
    "axes[1].grid(True)\n",
    "\n",
    "fig.tight_layout()\n",
    "plt.show()"
   ]
  },
  {
   "cell_type": "markdown",
   "metadata": {
    "hidden": true
   },
   "source": [
    "Дайте развёрнутый ответ на вопросы (в этой же ячейке):\n",
    "* Как изменяются качество на обучении и контроле и устойчивость процесса обучения при увеличении числа слоев?\n",
    "* Можно ли сказать, что логистическая регрессия (линейная модель) дает качество хуже, чем нелинейная модель?\n",
    "\n",
    "__Ответы:__\n",
    "\n",
    "При тестировании нейронной сети на обучающей выборке было получено идеальное качество, связано это с тем, что нейронная сеть может запомнить всю обучающую выборку, так как она состоит всего из 1347 объектов. Тем самым нейронная сеть только с одним слоем уже может запомнить полностью всю обучающую выборку. При тестировании нейронной сети на тестовой выборки был получен другой результат: оптимальным количеством слоев является три, при увеличении или уменьшении числа слоев значение качества падает, а разброс увеличивается. Тем самым, для нейронной сети очень важно правльно подобрать нужное число слоев, потому что при недостаточном или избыточном числе слоев нейронная сеть может получить худшее качество и быть менее устойчивой. Заметим, что линейные модели дают худшее качество и на обучающей, и на тестовой выборке, тем самым слой нелинейности позволяет найти дополнительные закономерности в данных и лучше производить классификацию"
   ]
  },
  {
   "cell_type": "markdown",
   "metadata": {
    "heading_collapsed": true,
    "hidden": true
   },
   "source": [
    "### `Эксперименты c различными инициализациями весов (1 балл)`"
   ]
  },
  {
   "cell_type": "markdown",
   "metadata": {
    "hidden": true
   },
   "source": [
    "Как уже было сказано, начальная инициализация весов нейронной сети может сильно влиять на процесс ее обучения и, как следствие, на ее качество.\n",
    "\n",
    "В этом пункте вам предлагается попробовать обучить несколько нейронных сетей с различными инициализациями слоев.\n",
    "\n",
    "Для этого необходимо реализовать функцию, инициализирующую веса линейных слоёв нашей нейронной сети. Добавьте в функционал данного метода возможность инициализировать его веса с помощью инициализации Kaiming (используется, если в нейронной сети в качестве функций активации используется ReLU) и инициализации Xavier (используется, если в нейронной сети в качестве функций активации используется Tanh или Sigmoid):"
   ]
  },
  {
   "cell_type": "code",
   "execution_count": 45,
   "metadata": {
    "ExecuteTime": {
     "end_time": "2021-03-03T14:45:57.075786Z",
     "start_time": "2021-03-03T14:45:57.063819Z"
    },
    "code_folding": [],
    "hidden": true
   },
   "outputs": [],
   "source": [
    "def initialize_network(network, initialization):\n",
    "    for layer in network:\n",
    "        if isinstance(layer, Dense):\n",
    "            input_units, output_units = layer.weights.shape\n",
    "            if initialization == 'Kaiming':\n",
    "                layer.weights = np.random.randn(input_units, output_units) * np.sqrt(2 / input_units)\n",
    "            elif initialization == 'Xavier':\n",
    "                layer.weights = np.random.uniform(low=-np.sqrt(6 / (input_units + output_units)), high=np.sqrt(6 / (input_units + output_units)), size=(input_units, output_units))\n",
    "            else:\n",
    "                # Initialize weights with small random numbers from normal distribution.\n",
    "                # In this case `initialization` represents a standard deviation\n",
    "                # for normal distribution.\n",
    "                layer.weights = np.random.randn(input_units, output_units) * initialization\n",
    "            layer.biases = np.zeros_like(layer.biases)\n",
    "            \n",
    "            layer.params = [layer.weights, layer.biases]"
   ]
  },
  {
   "cell_type": "markdown",
   "metadata": {
    "hidden": true
   },
   "source": [
    "Теперь попробуйте для каждой из 3 инициализаций обучить нейронную сеть несколько раз. Попробуйте проделать данную операцию при зафиксированном числе слоев равным 3, 4 и 5."
   ]
  },
  {
   "cell_type": "markdown",
   "metadata": {
    "heading_collapsed": true,
    "hidden": true
   },
   "source": [
    "#### `3 слоя`\n",
    "\n",
    "Зафиксируйте в сети число слоев равное трем."
   ]
  },
  {
   "cell_type": "markdown",
   "metadata": {
    "hidden": true
   },
   "source": [
    "Заполните матрицы `accs_train` и `accs_test`. В позиции `[i, j]` должна стоять величина доли правильных ответов сети при $j$-м запуске (все запуски идентичны) с инициализацией Kaiming при $i = 3$, с инициализацией Xavier при $i = 4$ и с инициализацией из нормального распределения с фиксированными параметрами при $0 \\leqslant i \\leqslant 2$ (попробуйте здесь 3 разных параметра для стандартного отклонения для нормального распределения, например: `1e-3`, `1e-2`, `1e-1`). Заметьте, что при большом числе слоев слишком низкое стандартное отклонение может не давать нейронной сети нормально обучиться."
   ]
  },
  {
   "cell_type": "code",
   "execution_count": 46,
   "metadata": {
    "ExecuteTime": {
     "end_time": "2021-03-03T14:45:57.091744Z",
     "start_time": "2021-03-03T14:45:57.079777Z"
    },
    "hidden": true
   },
   "outputs": [],
   "source": [
    "init_vars = [1e-3, 1e-2, 1e-1, 'Kaiming', 'Xavier']"
   ]
  },
  {
   "cell_type": "code",
   "execution_count": 47,
   "metadata": {
    "ExecuteTime": {
     "end_time": "2021-03-03T14:45:57.107701Z",
     "start_time": "2021-03-03T14:45:57.094737Z"
    },
    "hidden": true
   },
   "outputs": [],
   "source": [
    "accs_train = np.zeros((5, 5))\n",
    "accs_test = np.zeros((5, 5))"
   ]
  },
  {
   "cell_type": "code",
   "execution_count": 48,
   "metadata": {
    "ExecuteTime": {
     "end_time": "2021-03-03T14:46:27.904407Z",
     "start_time": "2021-03-03T14:45:57.111690Z"
    },
    "hidden": true
   },
   "outputs": [],
   "source": [
    "for i in range(5):\n",
    "    for j in range(5):\n",
    "        network = make_network(input_size, hidden_layers_size, output_size, 3, ReLU)\n",
    "        initialize_network(network, init_vars[i])\n",
    "        weights = get_weights(network)\n",
    "        res = minimize(compute_loss_grad, weights, args=[network, X_train, y_train], method=\"L-BFGS-B\", jac=True)\n",
    "        set_weights(res[\"x\"], network)\n",
    "        accs_train[i][j] = accuracy_score(y_train, predict(network, X_train))\n",
    "        accs_test[i][j] = accuracy_score(y_test, predict(network, X_test))"
   ]
  },
  {
   "cell_type": "markdown",
   "metadata": {
    "hidden": true
   },
   "source": [
    "Построим боксплоты полученного качества (горизонтальная линия в каждом столбце — среднее, прямоугольник показывает разброс)."
   ]
  },
  {
   "cell_type": "code",
   "execution_count": 49,
   "metadata": {
    "ExecuteTime": {
     "end_time": "2021-03-03T14:46:28.632502Z",
     "start_time": "2021-03-03T14:46:27.907401Z"
    },
    "hidden": true,
    "scrolled": false
   },
   "outputs": [
    {
     "data": {
      "image/png": "[encoded data removed]",
      "text/plain": [
       "<Figure size 720x360 with 1 Axes>"
      ]
     },
     "metadata": {
      "needs_background": "light"
     },
     "output_type": "display_data"
    }
   ],
   "source": [
    "init_vars_for_plot = [(x if isinstance(x, str) else fr\"$\\sigma = {x}$\") for x in init_vars]\n",
    "\n",
    "fig, ax = plt.subplots(1, 1, figsize=(10, 5))\n",
    "\n",
    "ax.boxplot(accs_test.T, labels=init_vars_for_plot, showfliers=False)\n",
    "\n",
    "ax.set_title(\"Test quality in 5 runs\")\n",
    "ax.set_xlabel(\"Initialization\")\n",
    "ax.set_ylabel(\"Test accuracy\")\n",
    "ax.grid(True)\n",
    "\n",
    "fig.tight_layout()\n",
    "plt.show()"
   ]
  },
  {
   "cell_type": "markdown",
   "metadata": {
    "heading_collapsed": true,
    "hidden": true
   },
   "source": [
    "#### `4 слоя`\n",
    "\n",
    "Выполните тут тот же код, что и в предыдущем пункте, но только уже с 4 слоями в сети."
   ]
  },
  {
   "cell_type": "code",
   "execution_count": 50,
   "metadata": {
    "ExecuteTime": {
     "end_time": "2021-03-03T14:45:57.091744Z",
     "start_time": "2021-03-03T14:45:57.079777Z"
    },
    "hidden": true
   },
   "outputs": [],
   "source": [
    "init_vars = [5e-3, 1e-2, 1e-1, 'Kaiming', 'Xavier']"
   ]
  },
  {
   "cell_type": "code",
   "execution_count": 51,
   "metadata": {
    "ExecuteTime": {
     "end_time": "2021-03-03T14:45:57.107701Z",
     "start_time": "2021-03-03T14:45:57.094737Z"
    },
    "hidden": true
   },
   "outputs": [],
   "source": [
    "accs_train = np.zeros((5, 5))\n",
    "accs_test = np.zeros((5, 5))"
   ]
  },
  {
   "cell_type": "code",
   "execution_count": 52,
   "metadata": {
    "ExecuteTime": {
     "end_time": "2021-03-03T14:46:27.904407Z",
     "start_time": "2021-03-03T14:45:57.111690Z"
    },
    "hidden": true
   },
   "outputs": [],
   "source": [
    "for i in range(5):\n",
    "    for j in range(5):\n",
    "        network = make_network(input_size, hidden_layers_size, output_size, 4, ReLU)\n",
    "        initialize_network(network, init_vars[i])\n",
    "        weights = get_weights(network)\n",
    "        res = minimize(compute_loss_grad, weights, args=[network, X_train, y_train], method=\"L-BFGS-B\", jac=True)\n",
    "        set_weights(res[\"x\"], network)\n",
    "        accs_train[i][j] = accuracy_score(y_train, predict(network, X_train))\n",
    "        accs_test[i][j] = accuracy_score(y_test, predict(network, X_test))"
   ]
  },
  {
   "cell_type": "markdown",
   "metadata": {
    "hidden": true
   },
   "source": [
    "Построим боксплоты полученного качества (горизонтальная линия в каждом столбце — среднее, прямоугольник показывает разброс)."
   ]
  },
  {
   "cell_type": "code",
   "execution_count": 53,
   "metadata": {
    "ExecuteTime": {
     "end_time": "2021-03-03T14:46:28.632502Z",
     "start_time": "2021-03-03T14:46:27.907401Z"
    },
    "hidden": true,
    "scrolled": false
   },
   "outputs": [
    {
     "data": {
      "image/png": "[encoded data removed]",
      "text/plain": [
       "<Figure size 720x360 with 1 Axes>"
      ]
     },
     "metadata": {
      "needs_background": "light"
     },
     "output_type": "display_data"
    }
   ],
   "source": [
    "init_vars_for_plot = [(x if isinstance(x, str) else fr\"$\\sigma = {x}$\") for x in init_vars]\n",
    "\n",
    "fig, ax = plt.subplots(1, 1, figsize=(10, 5))\n",
    "\n",
    "ax.boxplot(accs_test.T, labels=init_vars_for_plot, showfliers=False)\n",
    "\n",
    "ax.set_title(\"Test quality in 5 runs\")\n",
    "ax.set_xlabel(\"Initialization\")\n",
    "ax.set_ylabel(\"Test accuracy\")\n",
    "ax.grid(True)\n",
    "\n",
    "fig.tight_layout()\n",
    "plt.show()"
   ]
  },
  {
   "cell_type": "markdown",
   "metadata": {
    "heading_collapsed": true,
    "hidden": true
   },
   "source": [
    "#### `5 слоев`\n",
    "\n",
    "Выполните тут тот же код, что и в предыдущем пункте, но только уже с 5 слоями в сети."
   ]
  },
  {
   "cell_type": "code",
   "execution_count": 54,
   "metadata": {
    "ExecuteTime": {
     "end_time": "2021-03-03T14:45:57.091744Z",
     "start_time": "2021-03-03T14:45:57.079777Z"
    },
    "hidden": true
   },
   "outputs": [],
   "source": [
    "init_vars = [1e-2, 1e-1, 1e0, 'Kaiming', 'Xavier']"
   ]
  },
  {
   "cell_type": "code",
   "execution_count": 55,
   "metadata": {
    "ExecuteTime": {
     "end_time": "2021-03-03T14:45:57.107701Z",
     "start_time": "2021-03-03T14:45:57.094737Z"
    },
    "hidden": true
   },
   "outputs": [],
   "source": [
    "accs_train = np.zeros((5, 5))\n",
    "accs_test = np.zeros((5, 5))"
   ]
  },
  {
   "cell_type": "code",
   "execution_count": 56,
   "metadata": {
    "ExecuteTime": {
     "end_time": "2021-03-03T14:46:27.904407Z",
     "start_time": "2021-03-03T14:45:57.111690Z"
    },
    "hidden": true
   },
   "outputs": [],
   "source": [
    "for i in range(5):\n",
    "    for j in range(5):\n",
    "        network = make_network(input_size, hidden_layers_size, output_size, 5, ReLU)\n",
    "        initialize_network(network, init_vars[i])\n",
    "        weights = get_weights(network)\n",
    "        res = minimize(compute_loss_grad, weights, args=[network, X_train, y_train], method=\"L-BFGS-B\", jac=True)\n",
    "        set_weights(res[\"x\"], network)\n",
    "        accs_train[i][j] = accuracy_score(y_train, predict(network, X_train))\n",
    "        accs_test[i][j] = accuracy_score(y_test, predict(network, X_test))"
   ]
  },
  {
   "cell_type": "markdown",
   "metadata": {
    "hidden": true
   },
   "source": [
    "Построим боксплоты полученного качества (горизонтальная линия в каждом столбце — среднее, прямоугольник показывает разброс)."
   ]
  },
  {
   "cell_type": "code",
   "execution_count": 57,
   "metadata": {
    "ExecuteTime": {
     "end_time": "2021-03-03T14:46:28.632502Z",
     "start_time": "2021-03-03T14:46:27.907401Z"
    },
    "hidden": true,
    "scrolled": false
   },
   "outputs": [
    {
     "data": {
      "image/png": "[encoded data removed]",
      "text/plain": [
       "<Figure size 720x360 with 1 Axes>"
      ]
     },
     "metadata": {
      "needs_background": "light"
     },
     "output_type": "display_data"
    }
   ],
   "source": [
    "init_vars_for_plot = [(x if isinstance(x, str) else fr\"$\\sigma = {x}$\") for x in init_vars]\n",
    "\n",
    "fig, ax = plt.subplots(1, 1, figsize=(10, 5))\n",
    "\n",
    "ax.boxplot(accs_test.T, labels=init_vars_for_plot, showfliers=False)\n",
    "\n",
    "ax.set_title(\"Test quality in 5 runs\")\n",
    "ax.set_xlabel(\"Initialization\")\n",
    "ax.set_ylabel(\"Test accuracy\")\n",
    "ax.grid(True)\n",
    "\n",
    "fig.tight_layout()\n",
    "plt.show()"
   ]
  },
  {
   "cell_type": "code",
   "execution_count": 58,
   "metadata": {},
   "outputs": [
    {
     "data": {
      "text/plain": [
       "array([[0.93777778, 0.92444444, 0.92666667, 0.92666667, 0.93333333],\n",
       "       [0.94444444, 0.95333333, 0.94444444, 0.96      , 0.96222222],\n",
       "       [0.10222222, 0.33777778, 0.48666667, 0.76222222, 0.08444444],\n",
       "       [0.95777778, 0.96444444, 0.95333333, 0.94888889, 0.96444444],\n",
       "       [0.95555556, 0.96666667, 0.96444444, 0.96      , 0.95333333]])"
      ]
     },
     "execution_count": 58,
     "metadata": {},
     "output_type": "execute_result"
    }
   ],
   "source": [
    "accs_test"
   ]
  },
  {
   "cell_type": "markdown",
   "metadata": {
    "hidden": true
   },
   "source": [
    "Дайте развёрнутый ответ на вопросы (в этой же ячейке):\n",
    "* Как отличаются качество на обучении и контроле и устойчивость процесса обучения при различных инициализациях?\n",
    "* Какие инициализации помогают обучать более глубокие сети?\n",
    "\n",
    "__Ответы:__\n",
    "\n",
    "Как правило, наилучшего качество удавалось достичь при инициализациях Xavier и Kaiming, в то время как инициализация с помощью нормального распределения получала более худший результат. Также инициализация с помощью нормального распределения получала как правило больший разброс, чем другие инициализации. Заметим также, что для более глубокой сети с 5 слоями инициализация с помощью нормального распределения дала куда более худшие результаты, чем оставшиеся две инициализации, причем инициализация со стандартным отклонением, равным 1, дала разброс в 0.6 и получила в среднем качество, равное 0.35, что сильно меньше, чем инициализации Xavier и Kaiming, значит, именно их лучше всего использовать в более глубоких сетях"
   ]
  },
  {
   "cell_type": "markdown",
   "metadata": {
    "hidden": true
   },
   "source": [
    "Теперь сравним скорость обучения при различных инициализациях. Создайте два списка списков `accs_test_on_iterations`, `accs_train_on_iterations` в каждом из которых в позиции `[i]` (см. описание `i` в предыдущем пункте) будет лежать список из значений `accuracy` на тестовой и обучающей выборках соотвественно, полученных во время обучения модели. Количество слоев в сети зафиксируйте равным 4."
   ]
  },
  {
   "cell_type": "code",
   "execution_count": 59,
   "metadata": {
    "ExecuteTime": {
     "end_time": "2021-03-03T14:45:57.091744Z",
     "start_time": "2021-03-03T14:45:57.079777Z"
    },
    "hidden": true
   },
   "outputs": [],
   "source": [
    "init_vars = [1e-2, 1e-1, 1e-0, 'Kaiming', 'Xavier']"
   ]
  },
  {
   "cell_type": "code",
   "execution_count": 60,
   "metadata": {
    "ExecuteTime": {
     "end_time": "2021-03-03T14:46:28.647453Z",
     "start_time": "2021-03-03T14:46:28.635495Z"
    },
    "hidden": true
   },
   "outputs": [],
   "source": [
    "accs_test_on_iterations = []\n",
    "accs_train_on_iterations = []"
   ]
  },
  {
   "cell_type": "code",
   "execution_count": 61,
   "metadata": {
    "ExecuteTime": {
     "end_time": "2021-03-03T14:46:34.433662Z",
     "start_time": "2021-03-03T14:46:28.650417Z"
    },
    "hidden": true
   },
   "outputs": [],
   "source": [
    "for i in init_vars:\n",
    "    network = make_network(input_size, hidden_layers_size, output_size, 4, ReLU)\n",
    "    initialize_network(network, i)\n",
    "    weights = get_weights(network)\n",
    "    cb = Callback(network, X_train, y_train, X_test, y_test, print=False)\n",
    "    res = minimize(compute_loss_grad, weights, args=[network, X_train, y_train], method=\"L-BFGS-B\", jac=True, callback=cb.call)\n",
    "    set_weights(res[\"x\"], network)\n",
    "    accs_train_on_iterations.append(cb.train_acc)\n",
    "    accs_test_on_iterations.append(cb.test_acc)"
   ]
  },
  {
   "cell_type": "code",
   "execution_count": 62,
   "metadata": {
    "ExecuteTime": {
     "end_time": "2021-03-03T14:46:34.875348Z",
     "start_time": "2021-03-03T14:46:34.436663Z"
    },
    "hidden": true
   },
   "outputs": [
    {
     "data": {
      "image/png": "[encoded data removed]",
      "text/plain": [
       "<Figure size 720x360 with 1 Axes>"
      ]
     },
     "metadata": {
      "needs_background": "light"
     },
     "output_type": "display_data"
    }
   ],
   "source": [
    "fig, ax = plt.subplots(1, 1, figsize=(10, 5))\n",
    "init_vars_for_plot = [(x if isinstance(x, str) else fr\"$\\sigma = {x}$\") for x in init_vars]\n",
    "\n",
    "for idx, label in enumerate(init_vars_for_plot):\n",
    "    ax.plot(accs_test_on_iterations[idx], label=label)\n",
    "\n",
    "ax.set_title(\"Test quality for different initializations\")\n",
    "ax.set_xlabel(\"Epoch number\")\n",
    "ax.set_ylabel(\"Test accuracy\")\n",
    "ax.grid(True)\n",
    "ax.legend()\n",
    "\n",
    "fig.tight_layout()\n",
    "plt.show()"
   ]
  },
  {
   "cell_type": "markdown",
   "metadata": {
    "ExecuteTime": {
     "end_time": "2021-03-03T14:37:15.087902Z",
     "start_time": "2021-03-03T14:37:15.065996Z"
    },
    "hidden": true
   },
   "source": [
    "Дайте развёрнутый ответ на вопросы (в этой же ячейке):\n",
    "* Как меняется скорость обучения в зависимости от выбранной инициализации?\n",
    "\n",
    "__Ответы:__\n",
    "\n",
    "Быстрее всего обучаются нейронный сети с инициализациями Xavier, Kaiming, им достаточно меньше 100 эпох для обучения. Чуть медленнее обучается сеть с инициализацией нормальным распределением со стандартным отклонением 0.1, ей требуется чуть больше 100 эпох для обучения. Дольше всех обучается сеть с инициализацией нормальным распределением с отклонением 0.01, ей требуется более 175 эпох для обучения. Сеть с инициализацией нормальным распределением с отклонением 1 обучалась порядка 100 эпох, однако не достигла приемлимого уровня качества "
   ]
  },
  {
   "cell_type": "markdown",
   "metadata": {
    "heading_collapsed": true,
    "hidden": true
   },
   "source": [
    "### `Эксперименты c различными функциями активации (1 балл)`"
   ]
  },
  {
   "cell_type": "markdown",
   "metadata": {
    "hidden": true
   },
   "source": [
    "Проверим теперь, с какой функцией активации нейронная сеть будет обучаться лучше.\n",
    "\n",
    "В этом пункте вам предлагается попробовать обучить несколько нейронных сетей с различными функциями активации.\n",
    "\n",
    "Для этого нам нужно реализовать еще 2 слоя: для функций активации `Tanh` и `Sigmoid`."
   ]
  },
  {
   "cell_type": "code",
   "execution_count": 217,
   "metadata": {
    "ExecuteTime": {
     "end_time": "2021-03-03T14:46:34.891308Z",
     "start_time": "2021-03-03T14:46:34.878379Z"
    },
    "hidden": true
   },
   "outputs": [],
   "source": [
    "class Tanh:\n",
    "    \"\"\"\n",
    "    tanh(y) = (e^y - e^(-y)) / (e^y + e^(-y))\n",
    "    Используйте функцию np.tanh для подсчета гиперболического тангенса.\n",
    "    Вы можете сами реализовать подсчет tanh, но тогда вам нужно устойчиво его вычислять.\n",
    "    \"\"\"\n",
    "    def __init__(self):\n",
    "        self.params = [] # Tanh has no parameters\n",
    "\n",
    "    def forward(self, input):\n",
    "        \"\"\"\n",
    "        Apply elementwise Tanh to [batch, num_units] matrix\n",
    "        \"\"\"\n",
    "        self.X = input\n",
    "        return np.tanh(input)\n",
    "\n",
    "    def backward(self, grad_output):\n",
    "        \"\"\"\n",
    "        Compute gradient of loss w.r.t. Tanh input\n",
    "        grad_output shape: [batch, num_units]\n",
    "        output 1 shape: [batch, num_units]\n",
    "        output 2: []\n",
    "        \"\"\"\n",
    "        return grad_output * (1 - np.tanh(self.X) ** 2), []\n",
    "\n",
    "    def __repr__(self):\n",
    "        return 'Tanh()'"
   ]
  },
  {
   "cell_type": "code",
   "execution_count": 218,
   "metadata": {
    "ExecuteTime": {
     "end_time": "2021-03-03T14:46:34.907337Z",
     "start_time": "2021-03-03T14:46:34.894300Z"
    },
    "hidden": true
   },
   "outputs": [],
   "source": [
    "from scipy.special import expit\n",
    "    \n",
    "class Sigmoid:\n",
    "    \"\"\"\n",
    "    sigmoid(y) = 1 / (1 + e^(-y))\n",
    "    Используйте функцию expit для подсчета сигмоиды.\n",
    "    Вы можете сами реализовать подсчет сигмоиды, но тогда вам нужно устойчиво ее вычислять.\n",
    "    \"\"\"\n",
    "    def __init__(self):\n",
    "        self.params = [] # Sigmoid has no parameters\n",
    "\n",
    "    def forward(self, input):\n",
    "        \"\"\"\n",
    "        Apply elementwise Sigmoid to [batch, num_units] matrix\n",
    "        \"\"\"\n",
    "        self.X = input\n",
    "        return expit(input)\n",
    "\n",
    "    def backward(self, grad_output):\n",
    "        \"\"\"\n",
    "        Compute gradient of loss w.r.t. Sigmoid input\n",
    "        grad_output shape: [batch, num_units]\n",
    "        output 1 shape: [batch, num_units]\n",
    "        output 2: []\n",
    "        \"\"\"\n",
    "        return grad_output * (expit(self.X) * (1 - expit(self.X))), []\n",
    "\n",
    "    def __repr__(self):\n",
    "        return 'Sigmoid()'"
   ]
  },
  {
   "cell_type": "markdown",
   "metadata": {
    "hidden": true
   },
   "source": [
    "Теперь попробуйте для каждой из 3 функций активации обучить нейронную сеть несколько раз. Число слоев зафиксируйте равным 3. В случае `Tanh` и `Sigmoid` используйте инициализацию `Xavier`, а в случае `ReLU` используйте инициализацию `Kaiming`."
   ]
  },
  {
   "cell_type": "markdown",
   "metadata": {
    "hidden": true
   },
   "source": [
    "Заполните матрицы `accs_train` и `accs_test`. В позиции `[i, j]` должна стоять величина доли правильных ответов сети при $j$-м запуске (все запуски идентичны) с функцией активации $ReLU$ при $i = 0$, с функцией активации $Tanh$ при $i = 1$ и с функцией активации $Sigmoid$ при $i = 2$."
   ]
  },
  {
   "cell_type": "code",
   "execution_count": 219,
   "metadata": {
    "ExecuteTime": {
     "end_time": "2021-03-03T14:46:34.922732Z",
     "start_time": "2021-03-03T14:46:34.910271Z"
    },
    "hidden": true
   },
   "outputs": [],
   "source": [
    "act_func_vars = ['Tanh', 'Sigmoid', 'ReLU']\n",
    "init_for_act_funcs = ['Xavier', 'Xavier', 'Kaiming']"
   ]
  },
  {
   "cell_type": "code",
   "execution_count": 220,
   "metadata": {
    "ExecuteTime": {
     "end_time": "2021-03-03T14:46:34.938935Z",
     "start_time": "2021-03-03T14:46:34.925724Z"
    },
    "hidden": true
   },
   "outputs": [],
   "source": [
    "accs_train = np.zeros((3, 5))\n",
    "accs_test = np.zeros((3, 5))"
   ]
  },
  {
   "cell_type": "code",
   "execution_count": 221,
   "metadata": {
    "ExecuteTime": {
     "end_time": "2021-03-03T14:47:04.514986Z",
     "start_time": "2021-03-03T14:46:34.941104Z"
    },
    "hidden": true
   },
   "outputs": [],
   "source": [
    "for i in range(3):\n",
    "    for j in range(5):\n",
    "        network = make_network(input_size, hidden_layers_size, output_size, 3, eval(act_func_vars[i]))\n",
    "        initialize_network(network, init_for_act_funcs[i])\n",
    "        weights = get_weights(network)\n",
    "        res = minimize(compute_loss_grad, weights, args=[network, X_train, y_train], method=\"L-BFGS-B\", jac=True)\n",
    "        set_weights(res[\"x\"], network)\n",
    "        accs_train[i][j] = accuracy_score(y_train, predict(network, X_train))\n",
    "        accs_test[i][j] = accuracy_score(y_test, predict(network, X_test))"
   ]
  },
  {
   "cell_type": "markdown",
   "metadata": {
    "hidden": true
   },
   "source": [
    "Построим боксплоты полученного качества (горизонтальная линия в каждом столбце — среднее, прямоугольник показывает разброс)."
   ]
  },
  {
   "cell_type": "code",
   "execution_count": 222,
   "metadata": {
    "ExecuteTime": {
     "end_time": "2021-03-03T14:47:04.783320Z",
     "start_time": "2021-03-03T14:47:04.517701Z"
    },
    "hidden": true
   },
   "outputs": [
    {
     "data": {
      "image/png": "[encoded data removed]",
      "text/plain": [
       "<Figure size 720x360 with 1 Axes>"
      ]
     },
     "metadata": {
      "needs_background": "light"
     },
     "output_type": "display_data"
    }
   ],
   "source": [
    "fig, ax = plt.subplots(1, 1, figsize=(10, 5))\n",
    "\n",
    "ax.boxplot(accs_test.T, labels=act_func_vars, showfliers=False)\n",
    "\n",
    "ax.set_title(\"Test quality in 5 runs\")\n",
    "ax.set_xlabel(\"Activation function\")\n",
    "ax.set_ylabel(\"Test accuracy\")\n",
    "ax.grid(True)\n",
    "\n",
    "fig.tight_layout()\n",
    "plt.show()"
   ]
  },
  {
   "cell_type": "markdown",
   "metadata": {
    "hidden": true
   },
   "source": [
    "Дайте развёрнутый ответ на вопросы (в этой же ячейке):\n",
    "* Как отличаются качество на обучении и контроле и устойчивость процесса обучения при различных функциях активации?\n",
    "\n",
    "__Ответы:__\n",
    "\n",
    "Лучшее качество, равное 0.966, достигается при функции активации ReLU, сигмоида и гиперболический тангенс получают более худший результат, в среднем равный 0.935. Заметим также, что наибольший разброс получает гиперболический тангенс, в то время как у сигмоиды и ReLU разброс меньше"
   ]
  },
  {
   "cell_type": "markdown",
   "metadata": {
    "hidden": true
   },
   "source": [
    "\\* Несколько фрагментов кода в задании написаны на основе материалов [курса по глубинному обучению на ФКН НИУ ВШЭ](https://www.hse.ru/ba/ami/courses/205504078.html)"
   ]
  },
  {
   "cell_type": "markdown",
   "metadata": {
    "heading_collapsed": true
   },
   "source": [
    "## `Бонусная часть`"
   ]
  },
  {
   "cell_type": "markdown",
   "metadata": {
    "hidden": true
   },
   "source": [
    "### `Реализация метода оптимизации (1 балл)`\n",
    "\n",
    "Реализуйте сами метод оптимизации (аналог функции `minimize`) для рассмотренной выше архитектуры. В качестве метода оптимизации используйте SGD + momentum. Продемонстрируйте правильную работу метода оптимизации, сравните его работу с LBFGS-B. Сделайте выводы."
   ]
  },
  {
   "cell_type": "code",
   "execution_count": 503,
   "metadata": {},
   "outputs": [],
   "source": [
    "def SGDMomentum(f, weights, size_batch, learning_rate, momentum, args):\n",
    "    network, X, y = args\n",
    "    indices = np.random.permutation(X.shape[0])\n",
    "    i = 0\n",
    "    old_loss = 1\n",
    "    loss = 100\n",
    "    arr_loss = []\n",
    "    moment = 0\n",
    "    while i != 1000 and np.abs(old_loss - loss) > 1e-8:\n",
    "        left_pointer = 0\n",
    "        right_pointer = size_batch\n",
    "        while right_pointer <= X.shape[0]:\n",
    "            ind = indices[left_pointer:right_pointer]\n",
    "            old_loss = loss\n",
    "            loss, grad = f(weights, args=[network, X[ind], y[ind]])\n",
    "            moment = momentum * moment + grad\n",
    "            weights -= learning_rate * moment\n",
    "            left_pointer = right_pointer\n",
    "            right_pointer += size_batch\n",
    "        arr_loss.append(compute_loss_grad(weights, args=[network, X_train, y_train])[0])\n",
    "        i += 1\n",
    "    return i, weights, arr_loss"
   ]
  },
  {
   "cell_type": "code",
   "execution_count": 474,
   "metadata": {},
   "outputs": [
    {
     "name": "stdout",
     "output_type": "stream",
     "text": [
      "Число итераций для встроенной функции:  221\n",
      "Число итераций для SGD + momentum:  1000\n",
      "Найденный минимум функции потерь для встроенной функции:  1.5692316612910275e-07\n",
      "Найденный минимум функции потерь для SGD + momentum:  1.386269507911372e-05\n"
     ]
    }
   ],
   "source": [
    "network = make_network(input_size, hidden_layers_size, output_size, 3, ReLU)\n",
    "weights = get_weights(network)\n",
    "res = minimize(compute_loss_grad, weights, args=[network, X_train, y_train], method=\"L-BFGS-B\", jac=True)\n",
    "iterations, sgd_weights, loss = SGDMomentum(compute_loss_grad, weights, 32, 0.1, 0.005, args=[network, X_train, y_train])\n",
    "print('Число итераций для встроенной функции: ', res['nit'])\n",
    "print('Число итераций для SGD + momentum: ', iterations)\n",
    "print('Найденный минимум функции потерь для встроенной функции: ', compute_loss_grad(res['x'], args=[network, X_train, y_train])[0])\n",
    "print('Найденный минимум функции потерь для SGD + momentum: ', compute_loss_grad(sgd_weights, args=[network, X_train, y_train])[0])"
   ]
  },
  {
   "cell_type": "code",
   "execution_count": 475,
   "metadata": {},
   "outputs": [
    {
     "data": {
      "image/png": "[encoded data removed]",
      "text/plain": [
       "<Figure size 720x360 with 1 Axes>"
      ]
     },
     "metadata": {
      "needs_background": "light"
     },
     "output_type": "display_data"
    }
   ],
   "source": [
    "fig, ax = plt.subplots(1, 1, figsize=(10, 5))\n",
    "ax.plot(loss)\n",
    "ax.set_title(\"Loss for every epoch\")\n",
    "ax.set_xlabel(\"Epoch number\")\n",
    "ax.set_ylabel(\"Loss\")\n",
    "ax.grid(True)\n",
    "fig.tight_layout()\n",
    "plt.show()"
   ]
  },
  {
   "cell_type": "code",
   "execution_count": 484,
   "metadata": {},
   "outputs": [
    {
     "data": {
      "image/png": "[encoded data removed]",
      "text/plain": [
       "<Figure size 720x360 with 1 Axes>"
      ]
     },
     "metadata": {
      "needs_background": "light"
     },
     "output_type": "display_data"
    }
   ],
   "source": [
    "fig, ax = plt.subplots(1, 1, figsize=(10, 5))\n",
    "ax.plot(np.arange(100, 1000), loss[100:])\n",
    "ax.set_title(\"Loss for every epoch starting from 100\")\n",
    "ax.set_xticks(np.arange(100, 1000, step=100))\n",
    "ax.set_xlabel(\"Epoch number\")\n",
    "ax.set_ylabel(\"Loss\")\n",
    "ax.grid(True)\n",
    "fig.tight_layout()\n",
    "plt.show()"
   ]
  },
  {
   "cell_type": "markdown",
   "metadata": {},
   "source": [
    "SGD + momentum сходиться дольше, чем встроенная функция, а также встроенная функция лучше нашла минимум функции, чем SGD + momentum. Проведем эксперименты, чтобы подобрать оптимальные гиперпараметры для данного датасета, а также посмотрим, как ведет себя SGD + momentum в зависимости от гиперпараметров на данном датасете:"
   ]
  },
  {
   "cell_type": "code",
   "execution_count": 512,
   "metadata": {},
   "outputs": [
    {
     "data": {
      "image/png": "[encoded data removed]",
      "text/plain": [
       "<Figure size 720x360 with 1 Axes>"
      ]
     },
     "metadata": {
      "needs_background": "light"
     },
     "output_type": "display_data"
    }
   ],
   "source": [
    "arr_loss = []\n",
    "arr_batch_size = [16, 32, 64]\n",
    "for batch_size in arr_batch_size:\n",
    "    network = make_network(input_size, hidden_layers_size, output_size, 3, ReLU)\n",
    "    weights = get_weights(network)\n",
    "    iterations, sgd_weights, loss = SGDMomentum(compute_loss_grad, weights, batch_size, 0.1, 0.005, args=[network, X_train, y_train])\n",
    "    arr_loss.append(loss[100:])\n",
    "\n",
    "fig, ax = plt.subplots(1, 1, figsize=(10, 5))\n",
    "for idx, label in enumerate(arr_batch_size):\n",
    "    ax.plot(np.arange(100, 1000), arr_loss[idx], label=label)\n",
    "\n",
    "ax.set_title(\"Loss for diffirent batch_size starting from 100 epoch\")\n",
    "ax.set_xlabel(\"Epoch number\")\n",
    "ax.set_ylabel(\"Loss\")\n",
    "ax.grid(True)\n",
    "ax.legend(title='batch_size')\n",
    "fig.tight_layout()\n",
    "plt.show()"
   ]
  },
  {
   "cell_type": "code",
   "execution_count": 535,
   "metadata": {},
   "outputs": [
    {
     "data": {
      "image/png": "[encoded data removed]",
      "text/plain": [
       "<Figure size 720x360 with 1 Axes>"
      ]
     },
     "metadata": {
      "needs_background": "light"
     },
     "output_type": "display_data"
    }
   ],
   "source": [
    "arr_loss = []\n",
    "arr_lr = np.logspace(-3, -1, 3)\n",
    "for lr in arr_lr:\n",
    "    network = make_network(input_size, hidden_layers_size, output_size, 3, ReLU)\n",
    "    weights = get_weights(network)\n",
    "    iterations, sgd_weights, loss = SGDMomentum(compute_loss_grad, weights, 32, lr, 0.005, args=[network, X_train, y_train])\n",
    "    arr_loss.append(loss[100:])\n",
    "\n",
    "fig, ax = plt.subplots(1, 1, figsize=(10, 5))\n",
    "for idx, label in enumerate(arr_lr):\n",
    "    ax.plot(np.arange(100, 1000), arr_loss[idx], label=label)\n",
    "\n",
    "ax.set_title(\"Loss for diffirent learning_rate starting from 100 epoch\")\n",
    "ax.set_xlabel(\"Epoch number\")\n",
    "ax.set_ylabel(\"Loss\")\n",
    "ax.grid(True)\n",
    "ax.legend(title='learning_rate')\n",
    "fig.tight_layout()\n",
    "plt.show()"
   ]
  },
  {
   "cell_type": "code",
   "execution_count": 538,
   "metadata": {},
   "outputs": [
    {
     "data": {
      "image/png": "[encoded data removed]",
      "text/plain": [
       "<Figure size 720x360 with 1 Axes>"
      ]
     },
     "metadata": {
      "needs_background": "light"
     },
     "output_type": "display_data"
    }
   ],
   "source": [
    "arr_loss = []\n",
    "arr_momentum = [0.005, 0.05, 0.5]\n",
    "for momentum in arr_momentum:\n",
    "    network = make_network(input_size, hidden_layers_size, output_size, 3, ReLU)\n",
    "    weights = get_weights(network)\n",
    "    iterations, sgd_weights, loss = SGDMomentum(compute_loss_grad, weights, 32, 0.1, momentum, args=[network, X_train, y_train])\n",
    "    arr_loss.append(loss[100:])\n",
    "\n",
    "fig, ax = plt.subplots(1, 1, figsize=(10, 5))\n",
    "for idx, label in enumerate(arr_momentum):\n",
    "    ax.plot(np.arange(100, 1000), arr_loss[idx], label=label)\n",
    "\n",
    "ax.set_title(\"Loss for diffirent momentum starting from 100 epoch\")\n",
    "ax.set_xlabel(\"Epoch number\")\n",
    "ax.set_ylabel(\"Loss\")\n",
    "ax.grid(True)\n",
    "ax.legend(title='momentum')\n",
    "fig.tight_layout()\n",
    "plt.show()"
   ]
  },
  {
   "cell_type": "markdown",
   "metadata": {},
   "source": [
    "Лучше всего брать батчи небольшого размера, например, 16, темп обучения, равный 0.1 или 0.01, а также параметр momentum, равный 0.005 или 0.05"
   ]
  },
  {
   "cell_type": "markdown",
   "metadata": {
    "hidden": true
   },
   "source": [
    "### `Dropout (1 балл)`\n",
    "\n",
    "Реализуйте слой Dropout. Сравните обучение сети из большого числа слоёв при использовании Dropout и без его использования (предварительно подберите адекватный параметр $p$). Сделайте выводы."
   ]
  },
  {
   "cell_type": "code",
   "execution_count": 64,
   "metadata": {},
   "outputs": [],
   "source": [
    "class Dropout:\n",
    "    def __init__(self, p=0.5):\n",
    "        self.p = p\n",
    "        self.params = []\n",
    "\n",
    "    def forward(self,input):\n",
    "        self.mask = np.random.choice(2, input.shape, p=[self.p, 1-self.p]) / (1 - self.p)\n",
    "        return input * self.mask \n",
    "\n",
    "    def backward(self, grad_output):\n",
    "        return self.mask * grad_output, []\n",
    "    \n",
    "    def __repr__(self):\n",
    "        return f'Dropout({self.p})'"
   ]
  },
  {
   "cell_type": "code",
   "execution_count": 65,
   "metadata": {},
   "outputs": [],
   "source": [
    "p_vars = [0, 0.005, 0.1, 0.3]\n",
    "accs_test_on_iterations = []\n",
    "for p in p_vars:\n",
    "    network = [Dense(64, 32), ReLU(), Dropout(p), Dense(32, 32), ReLU(), Dense(32, 32), ReLU(), Dropout(p), Dense(32, 10), LogSoftmax()]\n",
    "    initialize_network(network, 'Kaiming')\n",
    "    weights = get_weights(network)\n",
    "    cb = Callback(network, X_train, y_train, X_test, y_test, print=False)\n",
    "    res = minimize(compute_loss_grad, weights, args=[network, X_train, y_train], method=\"L-BFGS-B\", jac=True, callback=cb.call)\n",
    "    set_weights(res[\"x\"], network)\n",
    "    accs_test_on_iterations.append(cb.test_acc)"
   ]
  },
  {
   "cell_type": "code",
   "execution_count": 66,
   "metadata": {},
   "outputs": [
    {
     "data": {
      "image/png": "[encoded data removed]",
      "text/plain": [
       "<Figure size 720x360 with 1 Axes>"
      ]
     },
     "metadata": {
      "needs_background": "light"
     },
     "output_type": "display_data"
    }
   ],
   "source": [
    "fig, ax = plt.subplots(1, 1, figsize=(10, 5))\n",
    "\n",
    "for idx, label in enumerate(p_vars):\n",
    "    ax.plot(accs_test_on_iterations[idx], label=label)\n",
    "\n",
    "ax.set_title(\"Test quality for different parameters p in Dropout\")\n",
    "ax.set_xlabel(\"Epoch number\")\n",
    "ax.set_ylabel(\"Test accuracy\")\n",
    "ax.grid(True)\n",
    "ax.legend()\n",
    "\n",
    "fig.tight_layout()\n",
    "plt.show()"
   ]
  },
  {
   "cell_type": "markdown",
   "metadata": {},
   "source": [
    "Использование слоя Dropout не помогло увеличить точность работы алгоритма. Заметим, что чем выше параметр p для слоя Dropout, тем меньшую точность показывала модель"
   ]
  },
  {
   "cell_type": "markdown",
   "metadata": {
    "hidden": true
   },
   "source": [
    "### `BatchNormalization (1 балл)`\n",
    "\n",
    "Реализуйте слой `BatchNormalization`. Сравните обучение сети из большого числа слоёв при использовании `BatchNormalization` и без его использования. Сделайте выводы."
   ]
  },
  {
   "cell_type": "code",
   "execution_count": 408,
   "metadata": {},
   "outputs": [],
   "source": [
    "class BatchNormalization:\n",
    "    def __init__(self, input_size):\n",
    "        self.input_size = input_size\n",
    "        self.gamma = np.ones(input_size)\n",
    "        self.delta = np.zeros(input_size)\n",
    "        self.params = [self.gamma, self.delta]\n",
    "\n",
    "    def forward(self, input):\n",
    "        self.xshape = input.shape[0]\n",
    "        self.mean = np.mean(input, axis=0, keepdims=True)\n",
    "        self.sigma = np.mean((input - self.mean) ** 2, axis=0, keepdims=True)\n",
    "        self.y = (input - self.mean) / np.sqrt(self.sigma + 1e-6)\n",
    "        return self.gamma * self.y + self.delta\n",
    "\n",
    "    def backward(self, grad_output):\n",
    "        new_grad = np.sum(-grad_output * self.gamma * self.y * np.sqrt(self.sigma + 1e-6) / (2 * self.sigma ** 1.5), axis=0, keepdims=True)\n",
    "        mean_grad = (np.sum(-grad_output * self.gamma / np.sqrt(self.sigma + 1e-6), axis=0, keepdims=True) + new_grad * np.sum(-2 * self.y * np.sqrt(self.sigma + 1e-6) / self.xshape, axis=0, keepdims=True))\n",
    "        grad = (grad_output * self.gamma) / np.sqrt(self.sigma + 1e-6) + 2 * new_grad * self.y * np.sqrt(self.sigma + 1e-6) / self.xshape + mean_grad / self.xshape\n",
    "        return grad, np.r_[np.sum(grad_output * self.y, axis=0), np.sum(grad_output, axis=0)]\n",
    "    \n",
    "    def __repr__(self):\n",
    "        return f'BatchNormalization({self.input_size})'"
   ]
  },
  {
   "cell_type": "code",
   "execution_count": 411,
   "metadata": {},
   "outputs": [
    {
     "name": "stdout",
     "output_type": "stream",
     "text": [
      "Без слоя BatchNormalization: 0.9533333333333334\n",
      "Один слой BatchNormalization: 0.9577777777777777\n",
      "Два слоя BatchNormalization: 0.9711111111111111\n",
      "Три слоя BatchNormalization: 0.9777777777777777\n"
     ]
    }
   ],
   "source": [
    "network = [Dense(64, 32), ReLU(), Dense(32, 32), ReLU(), Dense(32, 32), ReLU(), Dense(32, 10), LogSoftmax()]\n",
    "initialize_network(network, 'Kaiming')\n",
    "weights = get_weights(network)\n",
    "cb = Callback(network, X_train, y_train, X_test, y_test, print=False)\n",
    "res = minimize(compute_loss_grad, weights, args=[network, X_train, y_train], method=\"L-BFGS-B\", jac=True, callback=cb.call)\n",
    "set_weights(res[\"x\"], network)\n",
    "print('Без слоя BatchNormalization:', cb.test_acc[-1])\n",
    "\n",
    "network = [Dense(64, 32), BatchNormalization(32), ReLU(), Dense(32, 32), ReLU(), Dense(32, 32), ReLU(), Dense(32, 10), LogSoftmax()]\n",
    "initialize_network(network, 'Kaiming')\n",
    "weights = get_weights(network)\n",
    "cb = Callback(network, X_train, y_train, X_test, y_test, print=False)\n",
    "res = minimize(compute_loss_grad, weights, args=[network, X_train, y_train], method=\"L-BFGS-B\", jac=True, callback=cb.call)\n",
    "set_weights(res[\"x\"], network)\n",
    "print('Один слой BatchNormalization:', cb.test_acc[-1])\n",
    "\n",
    "network = [Dense(64, 32), BatchNormalization(32), ReLU(), Dense(32, 32), ReLU(), Dense(32, 32), BatchNormalization(32), ReLU(), Dense(32, 10), LogSoftmax()]\n",
    "initialize_network(network, 'Kaiming')\n",
    "weights = get_weights(network)\n",
    "cb = Callback(network, X_train, y_train, X_test, y_test, print=False)\n",
    "res = minimize(compute_loss_grad, weights, args=[network, X_train, y_train], method=\"L-BFGS-B\", jac=True, callback=cb.call)\n",
    "set_weights(res[\"x\"], network)\n",
    "print('Два слоя BatchNormalization:', cb.test_acc[-1])\n",
    "\n",
    "network = [Dense(64, 32), BatchNormalization(32), ReLU(), Dense(32, 32), BatchNormalization(32), ReLU(), Dense(32, 32), BatchNormalization(32), ReLU(), Dense(32, 10), LogSoftmax()]\n",
    "initialize_network(network, 'Kaiming')\n",
    "weights = get_weights(network)\n",
    "cb = Callback(network, X_train, y_train, X_test, y_test, print=False)\n",
    "res = minimize(compute_loss_grad, weights, args=[network, X_train, y_train], method=\"L-BFGS-B\", jac=True, callback=cb.call)\n",
    "set_weights(res[\"x\"], network)\n",
    "print('Три слоя BatchNormalization:', cb.test_acc[-1])"
   ]
  },
  {
   "cell_type": "markdown",
   "metadata": {},
   "source": [
    "Использование слоя BatchNormalization действительно помогло повысить качество модели, причем чем больше слоев нормализации было использовано, тем лучших значений качества достигала модель"
   ]
  }
 ],
 "metadata": {
  "kernelspec": {
   "display_name": "Python 3 (ipykernel)",
   "language": "python",
   "name": "python3"
  },
  "language_info": {
   "codemirror_mode": {
    "name": "ipython",
    "version": 3
   },
   "file_extension": ".py",
   "mimetype": "text/x-python",
   "name": "python",
   "nbconvert_exporter": "python",
   "pygments_lexer": "ipython3",
   "version": "3.9.12"
  }
 },
 "nbformat": 4,
 "nbformat_minor": 2
}
